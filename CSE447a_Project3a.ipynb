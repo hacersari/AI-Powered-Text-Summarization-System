{
  "cells": [
    {
      "cell_type": "markdown",
      "metadata": {
        "id": "pus1uEsM8yxz"
      },
      "source": [
        "# Project 3a: Self-Attention and Transformers"
      ]
    },
    {
      "cell_type": "code",
      "execution_count": 1,
      "metadata": {
        "colab": {
          "base_uri": "https://localhost:8080/"
        },
        "id": "eGkqXVfs8yxz",
        "outputId": "ca871b90-1985-4728-b99a-14461bef405c"
      },
      "outputs": [
        {
          "output_type": "stream",
          "name": "stdout",
          "text": [
            "Requirement already satisfied: torch in /usr/local/lib/python3.10/dist-packages (2.5.1+cu121)\n",
            "Requirement already satisfied: filelock in /usr/local/lib/python3.10/dist-packages (from torch) (3.16.1)\n",
            "Requirement already satisfied: typing-extensions>=4.8.0 in /usr/local/lib/python3.10/dist-packages (from torch) (4.12.2)\n",
            "Requirement already satisfied: networkx in /usr/local/lib/python3.10/dist-packages (from torch) (3.4.2)\n",
            "Requirement already satisfied: jinja2 in /usr/local/lib/python3.10/dist-packages (from torch) (3.1.4)\n",
            "Requirement already satisfied: fsspec in /usr/local/lib/python3.10/dist-packages (from torch) (2024.10.0)\n",
            "Requirement already satisfied: sympy==1.13.1 in /usr/local/lib/python3.10/dist-packages (from torch) (1.13.1)\n",
            "Requirement already satisfied: mpmath<1.4,>=1.1.0 in /usr/local/lib/python3.10/dist-packages (from sympy==1.13.1->torch) (1.3.0)\n",
            "Requirement already satisfied: MarkupSafe>=2.0 in /usr/local/lib/python3.10/dist-packages (from jinja2->torch) (3.0.2)\n"
          ]
        }
      ],
      "source": [
        "%%bash\n",
        "# Install required packages\n",
        "pip install torch"
      ]
    },
    {
      "cell_type": "code",
      "execution_count": 2,
      "metadata": {
        "id": "xS6uPVlX8yx0"
      },
      "outputs": [],
      "source": [
        "import math\n",
        "import torch\n",
        "import torch.nn as nn\n",
        "import torch.nn.functional as F"
      ]
    },
    {
      "cell_type": "markdown",
      "metadata": {
        "id": "BsJxO8au8yx0"
      },
      "source": [
        "## 1.1: Implementing Self-Attention from Scratch\n",
        "\n",
        "This assignment is adapted from the code by Yegor Kuznetsov, Liwei Jiang, and Jaehun Jung."
      ]
    },
    {
      "cell_type": "markdown",
      "metadata": {
        "id": "Y6shmyoQ8yx1"
      },
      "source": [
        "## Preparation"
      ]
    },
    {
      "cell_type": "code",
      "execution_count": 3,
      "metadata": {
        "id": "2yrA6M028yx1"
      },
      "outputs": [],
      "source": [
        "######################################################\n",
        "#  The following code is given to you.\n",
        "######################################################\n",
        "\n",
        "\n",
        "def MHA_wrapper(query, key, value, n_heads=1, causal=False):\n",
        "    \"\"\"\n",
        "    This is a wrapper around the PyTorch implementation of multi-head attention.\n",
        "    You will use this implementation to compare to your implementation for code testing.\n",
        "    \"\"\"\n",
        "    assert query.shape == key.shape == value.shape\n",
        "    _, n_tok, n_embd = query.shape\n",
        "\n",
        "    query = query.transpose(0, 1)\n",
        "    key = key.transpose(0, 1)\n",
        "    value = value.transpose(0, 1)\n",
        "\n",
        "    in_proj_weight = torch.eye(n_embd, dtype=key.dtype, device=key.device).repeat(\n",
        "        (3, 1)\n",
        "    )\n",
        "    out_proj_weight = torch.eye(n_embd, dtype=key.dtype, device=key.device)\n",
        "\n",
        "    attn_mask = None\n",
        "    if causal:\n",
        "        attn_mask = torch.tril(\n",
        "            torch.ones(n_tok, n_tok, dtype=bool, device=key.device)\n",
        "        ).logical_not()\n",
        "\n",
        "    out, _ = F.multi_head_attention_forward(\n",
        "        query,\n",
        "        key,\n",
        "        value,\n",
        "        n_embd,\n",
        "        n_heads,\n",
        "        in_proj_weight=in_proj_weight,\n",
        "        in_proj_bias=None,\n",
        "        bias_k=None,\n",
        "        bias_v=None,\n",
        "        add_zero_attn=False,\n",
        "        dropout_p=0,\n",
        "        out_proj_weight=out_proj_weight,\n",
        "        out_proj_bias=None,\n",
        "        attn_mask=attn_mask,\n",
        "        need_weights=False,\n",
        "    )\n",
        "\n",
        "    return out.transpose(0, 1)"
      ]
    },
    {
      "cell_type": "code",
      "execution_count": 33,
      "metadata": {
        "id": "v4VjiUts8yx1"
      },
      "outputs": [],
      "source": [
        "######################################################\n",
        "#  The following code is given to you.\n",
        "######################################################\n",
        "\n",
        "# use cpu for now\n",
        "DEVICE = \"cpu\"\n",
        "\n",
        "# make these bigger if you want a stricter test of your code\n",
        "part1_n_tok = 10\n",
        "part1_n_emb = 6\n",
        "\n",
        "# generate fixed pseudo-random Q,K,V for testing attn function\n",
        "torch.manual_seed(447)\n",
        "\n",
        "# Initialize random testing Q,K,V\n",
        "part1_key = torch.randn(1, part1_n_tok, part1_n_emb)\n",
        "part1_value = torch.randn(1, part1_n_tok, part1_n_emb)\n",
        "part1_query = torch.randn(1, part1_n_tok, part1_n_emb)"
      ]
    },
    {
      "cell_type": "markdown",
      "metadata": {
        "id": "QuILLScb8yx1"
      },
      "source": [
        "## Step 0: Set up the projections for attention.\n",
        "**You will complete the following code blocks denoted by `TODO:`.** For now you don't need to implement anything here, as you go through the following steps, you will keep coming back to this cell and fill in your implementation."
      ]
    },
    {
      "cell_type": "code",
      "execution_count": 44,
      "metadata": {
        "deletable": false,
        "nbgrader": {
          "cell_type": "code",
          "checksum": "b9ddabd8d7c4616b34b5146c9a3f57bc",
          "grade": false,
          "grade_id": "cell-452a25f05b3731e0",
          "locked": false,
          "schema_version": 3,
          "solution": true,
          "task": false
        },
        "id": "eR1yIIcX8yx1"
      },
      "outputs": [],
      "source": [
        "def init_qkv_proj(n_embd: int):\n",
        "    \"\"\"\n",
        "    This function is given to you.\n",
        "    :return: A tuple of length 3 containing the projections for Q, K, V.\n",
        "    \"\"\"\n",
        "    return (\n",
        "        nn.Linear(n_embd, n_embd),\n",
        "        nn.Linear(n_embd, n_embd),\n",
        "        nn.Linear(n_embd, n_embd),\n",
        "    )\n",
        "\n",
        "def self_attention(Q, K, V, n_heads=1, causal=True):\n",
        "    \"\"\"\n",
        "    Self-attention block.\n",
        "\n",
        "    Note: You will keep coming back to this cell and fill in more of this function\n",
        "    after completing each of the following steps! Don't forget to re-run this\n",
        "    cell each time you change it. Make sure that once you're done, all the testing\n",
        "    cells should work.\n",
        "\n",
        "    :return: A tensor containing the result of the self-attention operation.\n",
        "\n",
        "    \"\"\"\n",
        "\n",
        "    assert Q.shape == K.shape == V.shape\n",
        "    B, n_tok, n_embd = Q.shape\n",
        "    print(f\"Initial Shapes - Q: {Q.shape}, K: {K.shape}, V: {V.shape}\")\n",
        "\n",
        "    # Step 3 -- split heads - if using multihead attention\n",
        "    if n_heads > 1:\n",
        "        Q, K, V = split_heads(Q, n_heads), split_heads(K, n_heads), split_heads(V, n_heads)\n",
        "        print(f\"After splitting heads - Q: {Q.shape}, K: {K.shape}, V: {V.shape}\")\n",
        "\n",
        "    scores = pairwise_similarities(Q, K)\n",
        "    print(f\"Raw attention scores shape: {scores.shape}\")\n",
        "    # Compute attention scores\n",
        "    scores = attn_scaled(scores, n_embd, n_heads)\n",
        "\n",
        "    print(f\"Scaled attention scores shape: {scores.shape}\")\n",
        "\n",
        "    # Step 2 -- create and apply the causal mask to attention\n",
        "    # Apply causal masking\n",
        "    if causal:\n",
        "        mask = make_causal_mask(n_tok)\n",
        "        print(f\"Causal mask shape: {mask.shape}\")\n",
        "        scores = apply_causal_mask(mask, scores)\n",
        "        print(f\"Masked attention scores shape: {scores.shape}\")\n",
        "\n",
        "    # Step 1 normalize scores and compute outputs\n",
        "    probs = attn_softmax(scores)\n",
        "    print(f\"Softmax probabilities shape: {probs.shape}\")\n",
        "    y = compute_outputs(probs, V)\n",
        "    print(f\"Weighted sum of values shape: {y.shape}\")\n",
        "\n",
        "\n",
        "    # Step 3 -- merge heads.\n",
        "    if n_heads > 1:\n",
        "        y = merge_heads(y)\n",
        "\n",
        "    # output should have the same shape as input\n",
        "    assert y.shape == (B, n_tok, n_embd)\n",
        "    print(f\"Final output shape: {y.shape}\")\n",
        "    return y"
      ]
    },
    {
      "cell_type": "markdown",
      "metadata": {
        "id": "LN5ISQwV8yx1"
      },
      "source": [
        "## Step 1: Implement the core components of attention.\n",
        "\n",
        "Note that a self attention block consists of the following computations:\n",
        "\n",
        "Given a set of query vectors $Q$, key vectors $K$, and value vectors $V$,\n",
        "\n",
        "Compute the raw attention scores $A$ as:\n",
        "$$ A = \\frac{1}{\\sqrt{d_{\\text{head}}}}QK^T $$\n",
        "\n",
        "Apply a softmax to the scaled scores to get the attention weights:\n",
        "$$ A = \\texttt{softmax} (A) $$\n",
        "\n",
        "Compute the output vectors by taking a weighted sum of the value vectors, weighted by the attention weights:\n",
        "$$ O = AV $$\n",
        "\n",
        "Note that $d_{\\text{head}}$ is the dimensionality of the feature vectors i.e. query, key, and value vectors and is given by $\\frac{d_{\\text{model}}}{n_{\\text{heads}}}$, where $d_{\\text{model}}$ is the embedding dimension of the model and $n_{\\text{heads}}$ is the number of attention heads.\n"
      ]
    },
    {
      "cell_type": "markdown",
      "metadata": {
        "id": "C9LHw-fs8yx1"
      },
      "source": [
        "Useful tips:\n",
        "- You can use the `@` operator to perform matrix multiplication. Alternatively, you can use the `torch.matmul` function.\n",
        "- For the batched cases, for e.g., you have a tensor X of shape (B, m, n) and another tensor Y of shape (B, n, m), then X@Y performs the matrix multiplication for each of the batch elements, giving you a tensor of shape (B, m, m).\n",
        "- You can use the `transpose` method to transpose matrices in pytorch. If you have a tensor X of shape (B, n, m), then X.transpose(-2, -1) gives you a tensor of shape (B, m, n).\n",
        "- You might find the `F.softmax` function useful. Check the [documentation](https://pytorch.org/docs/stable/generated/torch.nn.functional.softmax.html) for more details.\n",
        "- Softmax is applied along the last dimension."
      ]
    },
    {
      "cell_type": "markdown",
      "metadata": {
        "id": "SqYSSCUe8yx2"
      },
      "source": [
        "**You will complete the following code blocks denoted by `TODO:`.**"
      ]
    },
    {
      "cell_type": "code",
      "execution_count": 46,
      "metadata": {
        "deletable": false,
        "nbgrader": {
          "cell_type": "code",
          "checksum": "7494548dfc26db5544b8ca7c0cf6989f",
          "grade": false,
          "grade_id": "cell-92dccd6159197a28",
          "locked": false,
          "schema_version": 3,
          "solution": true,
          "task": false
        },
        "id": "IgNeJwse8yx2"
      },
      "outputs": [],
      "source": [
        "def pairwise_similarities(Q, K):\n",
        "    \"\"\"\n",
        "    Dot product attention is computed via the dot product between each query and each key.\n",
        "\n",
        "    Inputs:\n",
        "    - Q: torch.Tensor, shape (B, n_tok, n_embd) or (B, n_heads, n_tok, n_embd) containing the queries, where B is the batch size, n_heads is the number of attention heads, n_tok is the number of tokens, and n_embd is the embedding dimension.\n",
        "    - K: torch.Tensor, shape (B, n_tok, n_embd) or (B, n_heads, n_tok, n_embd) containing the keys, where B is the batch size, n_heads is the number of attention heads, n_tok is the number of tokens, and n_embd is the embedding dimension.\n",
        "\n",
        "    :return: The raw attention scores, A = QK^T.\n",
        "    \"\"\"\n",
        "    # transpose k, swap the last 2 dimensions to prepare for dot product\n",
        "    K_transpose = K.transpose(-2,-1)\n",
        "    # compute dot product QK'T\n",
        "    A = torch.matmul(Q, K_transpose)\n",
        "\n",
        "    return A\n",
        "\n",
        "def attn_scaled(A, d_model: float, n_heads: float):\n",
        "    \"\"\"\n",
        "    Scale the raw attention scores.\n",
        "    Inputs:\n",
        "    - A: torch.Tensor, shape (B, n_tok, n_tok) or (B, n_heads, n_tok, n_tok) containing the raw attention scores, where B is the batch size, n_heads is the number of attention heads, n_tok is the number of tokens.\n",
        "    - d_model: int, the embedding dimension.\n",
        "    - n_heads: int, the number of attention heads.\n",
        "    :return: Scaled raw attention scores.\n",
        "\n",
        "    \"\"\"\n",
        "    # comput the size of each head\n",
        "    d_head = d_model / n_heads\n",
        "\n",
        "    # scale the attention scores\n",
        "    A_scaled = A / (d_head ** 0.5)\n",
        "\n",
        "    return A_scaled\n",
        "\n",
        "def attn_softmax(A):\n",
        "    \"\"\"\n",
        "    Normalize the scaled raw attention scores with softmax.\n",
        "    Inputs:\n",
        "    - A: torch.Tensor, shape (B, n_tok, n_tok) or (B, n_heads, n_tok, n_tok) containing the scaled raw attention scores, where B is the batch size, n_heads is the number of attention heads, n_tok is the number of tokens.\n",
        "    :return: Normalized attention scores, A' = softmax(A).\n",
        "    \"\"\"\n",
        "    A_normalized = torch.nn.functional.softmax(A, dim=-1)\n",
        "    return A_normalized\n",
        "\n",
        "def compute_outputs(A, V):\n",
        "    \"\"\"\n",
        "    Get outputs as a weighted sum of values by attention scores, using matrices.\n",
        "    Inputs:\n",
        "    - A: torch.Tensor, shape (B, n_tok, n_tok) or (B, n_heads, n_tok, n_tok) containing the normalized attention scores, where B is the batch size, n_heads is the number of attention heads, n_tok is the number of tokens.\n",
        "    - V: torch.Tensor, shape (B, n_tok, n_embd) or (B, n_heads, n_tok, n_embd) containing the value vectors, where B is the batch size, n_heads is the number of attention heads, n_tok is the number of tokens, and n_embd is the embedding dimension.\n",
        "    :return: weighted sum of values by attention scores.\n",
        "    \"\"\"\n",
        "    # matrix multiplication to compute the weighted sum\n",
        "    outputs  = torch.matmul(A, V)\n",
        "    return outputs"
      ]
    },
    {
      "cell_type": "markdown",
      "metadata": {
        "id": "0Sa9bxYv8yx2"
      },
      "source": [
        "## Test 1: Building Single-headed Self-attention without Masking\n",
        "\n",
        "Implement lines denoted by `Step 1` in `self-attention()`, and run the following test code to verify your implementation produces close enough results to the PyTorch implementation."
      ]
    },
    {
      "cell_type": "code",
      "execution_count": 47,
      "metadata": {
        "colab": {
          "base_uri": "https://localhost:8080/"
        },
        "id": "XmUI9Opz8yx2",
        "outputId": "8a9ee607-4095-48d7-8c9c-0dba1b4327f1"
      },
      "outputs": [
        {
          "output_type": "stream",
          "name": "stdout",
          "text": [
            "Initial Shapes - Q: torch.Size([1, 10, 6]), K: torch.Size([1, 10, 6]), V: torch.Size([1, 10, 6])\n",
            "Raw attention scores shape: torch.Size([1, 10, 10])\n",
            "Scaled attention scores shape: torch.Size([1, 10, 10])\n",
            "Softmax probabilities shape: torch.Size([1, 10, 10])\n",
            "Weighted sum of values shape: torch.Size([1, 10, 6])\n",
            "Final output shape: torch.Size([1, 10, 6])\n",
            "max diff: 1.1920928955078125e-07\n"
          ]
        }
      ],
      "source": [
        "######################################################\n",
        "#  The following code is given to you. DO NOT MODIFY.\n",
        "######################################################\n",
        "\n",
        "out_A = self_attention(part1_query, part1_key, part1_value, n_heads=1, causal=False)\n",
        "out_B = MHA_wrapper(part1_query, part1_key, part1_value, n_heads=1, causal=False)\n",
        "assert out_A.shape == out_B.shape == part1_query.shape\n",
        "\n",
        "print(\"max diff:\", (out_A - out_B).abs().max().item())"
      ]
    },
    {
      "cell_type": "markdown",
      "metadata": {
        "id": "8gnbF6e58yx2"
      },
      "source": [
        "Max difference should be very small, our reference implementation gets a difference of the order of 1e-7"
      ]
    },
    {
      "cell_type": "markdown",
      "metadata": {
        "id": "Xuied-ov8yx2"
      },
      "source": [
        "## Step 2: Implement causal masking for language modeling.\n",
        "\n",
        "Note that for language modeling, since we are predicting the next token at every step, we cannot attend to future tokens. Therefore, we need to apply a causal mask to the attention scores, which is a lower triangular matrix, i.e., all the values above the diagonal are set to zero. Hence, the model can attend to the current and past tokens only."
      ]
    },
    {
      "cell_type": "markdown",
      "metadata": {
        "id": "ZDOn_t_48yx2"
      },
      "source": [
        "Useful tips:\n",
        "\n",
        "- Note that the mask is applied to the attention scores **before** the softmax operation.\n",
        "- A 0 raw attention score (pre-softmax) doesn't mean that after applying softmax it will also be 0! Think what score should be used to represent a raw attention score so that when softmaxed it will be 0.\n",
        "- You might find the `masked_fill` method useful. Check the [documentation](https://pytorch.org/docs/stable/generated/torch.Tensor.masked_fill.html) for more details."
      ]
    },
    {
      "cell_type": "markdown",
      "metadata": {
        "id": "D-SQNAGX8yx2"
      },
      "source": [
        "**You will complete the following code blocks denoted by `TODO:`.**"
      ]
    },
    {
      "cell_type": "code",
      "execution_count": 49,
      "metadata": {
        "deletable": false,
        "nbgrader": {
          "cell_type": "code",
          "checksum": "add8173a9470c5d0c95e195cfd7bc3ae",
          "grade": false,
          "grade_id": "cell-58647279b9ee6bba",
          "locked": false,
          "schema_version": 3,
          "solution": true,
          "task": false
        },
        "id": "hWrbzJMV8yx2"
      },
      "outputs": [],
      "source": [
        "def make_causal_mask(n_tok: int):\n",
        "    \"\"\"\n",
        "    Create a mask matrix that masks future context for the attention.\n",
        "    Inputs:\n",
        "    - n_tok: int, the number of tokens in the sequence.\n",
        "    :return: A mask matrix which is a tensor of shape (n_tok, n_tok)\n",
        "    \"\"\"\n",
        "\n",
        "    # lower triangular matrix\n",
        "    mask = torch.tril(torch.ones(n_tok, n_tok))\n",
        "    return mask\n",
        "\n",
        "def apply_causal_mask(mask, A):\n",
        "\n",
        "    \"\"\"\n",
        "    Apply mask to attention.\n",
        "    Inputs:\n",
        "    - mask: torch.Tensor, shape (n_tok, n_tok) containing the causal mask.\n",
        "    - A: torch.Tensor, shape (B, n_tok, n_tok) or (B, n_heads, n_tok, n_tok) containing the attention scores, where B is the batch size, n_heads is the number of attention heads, n_tok is the number of tokens.\n",
        "    :return: A masked attention matrix.\n",
        "    \"\"\"\n",
        "    # make sure it is same device\n",
        "    mask = mask.to(A.device)\n",
        "\n",
        "    # apply the mask to A by setting names positions to -inf\n",
        "    A_masked = A.masked_fill(mask == 0, float('-inf'))\n",
        "    return A_masked"
      ]
    },
    {
      "cell_type": "markdown",
      "metadata": {
        "id": "L9A9p5Th8yx2"
      },
      "source": [
        "## Test 2: Adding Causal Masks\n",
        "\n",
        "Implement lines denoted by `Step 2` in `self-attention()`, and run the following test code to verify your implementation produces close enough results to the PyTorch implementation."
      ]
    },
    {
      "cell_type": "code",
      "execution_count": 50,
      "metadata": {
        "colab": {
          "base_uri": "https://localhost:8080/"
        },
        "id": "Q0bXiy778yx2",
        "outputId": "061a869c-3631-4647-cea4-334f34dd865e"
      },
      "outputs": [
        {
          "output_type": "stream",
          "name": "stdout",
          "text": [
            "Initial Shapes - Q: torch.Size([1, 10, 6]), K: torch.Size([1, 10, 6]), V: torch.Size([1, 10, 6])\n",
            "Raw attention scores shape: torch.Size([1, 10, 10])\n",
            "Scaled attention scores shape: torch.Size([1, 10, 10])\n",
            "Causal mask shape: torch.Size([10, 10])\n",
            "Masked attention scores shape: torch.Size([1, 10, 10])\n",
            "Softmax probabilities shape: torch.Size([1, 10, 10])\n",
            "Weighted sum of values shape: torch.Size([1, 10, 6])\n",
            "Final output shape: torch.Size([1, 10, 6])\n",
            "max diff: 5.960464477539063e-08\n"
          ]
        }
      ],
      "source": [
        "out_A = self_attention(part1_query, part1_key, part1_value, n_heads=1, causal=True)\n",
        "out_B = MHA_wrapper(part1_query, part1_key, part1_value, n_heads=1, causal=True)\n",
        "assert out_A.shape == out_B.shape == part1_query.shape\n",
        "\n",
        "print(\"max diff:\", (out_A - out_B).abs().max().item())"
      ]
    },
    {
      "cell_type": "markdown",
      "metadata": {
        "id": "GWT1vS8q8yx2"
      },
      "source": [
        "The max difference should be very small, our reference implementation gets a difference of the order of 1e-7"
      ]
    },
    {
      "cell_type": "markdown",
      "metadata": {
        "id": "9broRBdr8yx2"
      },
      "source": [
        "## Step 3: Implement multi-head attention.\n",
        "\n",
        "Recall from the lecture that multi-head attention is implemented by running self-attention independently on each head and then concatenating the results. Specifically, we use the following steps:\n",
        "\n",
        "1. Split the queries, keys, and values into multiple heads.\n",
        "$$ Q = [Q_1, Q_2, \\ldots, Q_{n_{\\text{heads}}}], K = [K_1, K_2, \\ldots, K_{n_{\\text{heads}}}], V = [V_1, V_2, \\ldots, V_{n_{\\text{heads}}}] $$\n",
        "where $n_{\\text{heads}}$ is the number of heads. This is done by simply splitting the embedding dimension into $n_{\\text{heads}}$ chunks.\n",
        "\n",
        "2. Run self-attention independently on each head.\n",
        "$$ O_i = \\text{self\\_attention}(Q_i, K_i, V_i, n_{\\text{heads}}=n_{\\text{heads}}, causal=causal) $$\n",
        "for $i=1, 2, \\ldots, n_{\\text{heads}}$.\n",
        "Note that you don't actually need to call the self-attention function separately for each head. If your implementation is correct, you should be able to perform a single call to self_attention with the split Q, K, and V and get the same result.\n",
        "\n",
        "3. Concatenate the results of the heads.\n",
        "$$ O = \\text{concat}(O_1, O_2, \\ldots, O_{n_{\\text{heads}}}) $$"
      ]
    },
    {
      "cell_type": "markdown",
      "metadata": {
        "id": "3R7GC_ZP8yx3"
      },
      "source": [
        "Useful tips:\n",
        "- You might find the `.view` method useful for splitting and merging heads. Check the [documentation](https://pytorch.org/docs/stable/generated/torch.Tensor.view.html) for more details.\n",
        "- You might find the `.contiguous()` method useful for merging heads. Check the [documentation](https://pytorch.org/docs/stable/generated/torch.Tensor.contiguous.html) for more details."
      ]
    },
    {
      "cell_type": "markdown",
      "metadata": {
        "id": "dv13KL6l8yx3"
      },
      "source": [
        "**You will complete the following code blocks denoted by `TODO:`.**"
      ]
    },
    {
      "cell_type": "code",
      "execution_count": 51,
      "metadata": {
        "deletable": false,
        "nbgrader": {
          "cell_type": "code",
          "checksum": "4dc9002e93f029e1a5ee8fcbd94953fe",
          "grade": false,
          "grade_id": "cell-6f76a75118763d8f",
          "locked": false,
          "schema_version": 3,
          "solution": true,
          "task": false
        },
        "id": "TWAfpL2d8yx3"
      },
      "outputs": [],
      "source": [
        "def split_heads_qkv(Q, K, V, n_heads: int):\n",
        "    \"\"\"\n",
        "    Provided as a utility -- you can choose to not use it if you'd like.\n",
        "    \"\"\"\n",
        "    print(f\"Before splitting heads - Q: {Q.shape}, K: {K.shape}, V: {V.shape}\")\n",
        "    return (split_heads(Q, n_heads), split_heads(K, n_heads), split_heads(V, n_heads))\n",
        "    print(f\"After splitting heads - Q: {Q_split.shape}, K: {K_split.shape}, V: {V_split.shape}\")\n",
        "\n",
        "\n",
        "def split_heads(x, n_heads: int):\n",
        "    \"\"\"\n",
        "    Splitting x across multiple heads.\n",
        "    Inputs:\n",
        "    - x: torch.Tensor, shape (B, n_tok, n_embd) can be the queries, or keys, or values, where B is the batch size, n_tok is the number of tokens, and n_embd is the embedding dimension.\n",
        "    - n_heads: int, the number of heads.\n",
        "    :return: A split x, shape (B,n_heads, n_tok, n_embd // n_heads)\n",
        "    \"\"\"\n",
        "    B, n_tok, n_embd = x.size()\n",
        "    print(f\"Input tensor shape for splitting: {x.shape}\")\n",
        "    assert n_embd % n_heads == 0, \"d must be divisible by number of heads\"\n",
        "\n",
        "    # Compute the embedding size per head\n",
        "    head_dim = n_embd // n_heads\n",
        "    print(f\"Computed head_dim: {head_dim}\")\n",
        "    #scores /= d_head ** 0.5\n",
        "\n",
        "\n",
        "    # reshape to split embeddings across heads\n",
        "    x = x.view(B, n_tok, n_heads, head_dim)\n",
        "    print(f\"Shape after reshaping for heads: {x.shape}\")\n",
        "\n",
        "    # Transpose to (B, n_heads, n_tok, head_dim)\n",
        "    x = x.transpose(1, 2)\n",
        "    print(f\"Shape after transpose: {x.shape}\")\n",
        "    return x\n",
        "\n",
        "def merge_heads(y):\n",
        "    \"\"\"\n",
        "    Reversing splitting action of y.\n",
        "    Inputs:\n",
        "    - y: torch.Tensor, shape (B, n_heads, n_tok, n_embd // n_heads)\n",
        "    :return: A merged y, shape (B, n_tok, n_embd)\n",
        "    \"\"\"\n",
        "    B, n_heads, n_tok, d_head = y.size()\n",
        "    print(f\"Input tensor shape for merging: {y.shape}\")\n",
        "\n",
        "    # permute the order dimensions\n",
        "    y = y.transpose(1, 2)\n",
        "    print(f\"Shape after transpose for merging: {y.shape}\")\n",
        "\n",
        "    # merge the heads by reshaping\n",
        "    y = y.contiguous().view(B, n_tok, n_heads * d_head)\n",
        "    print(f\"Shape after merging heads: {y.shape}\")\n",
        "    return y\n"
      ]
    },
    {
      "cell_type": "markdown",
      "metadata": {
        "id": "GsNE9mQl8yx3"
      },
      "source": [
        "## Test 3: Adding Multi-Head Attention\n",
        "\n",
        "Implement lines denoted by `Step 3` in `self-attention()`, and run the following test code to verify your implementation produces close enough results to the PyTorch implementation."
      ]
    },
    {
      "cell_type": "code",
      "execution_count": 52,
      "metadata": {
        "colab": {
          "base_uri": "https://localhost:8080/"
        },
        "id": "RfRWrWuY8yx3",
        "outputId": "56cfc08c-dae1-4990-d851-1a7366407087"
      },
      "outputs": [
        {
          "output_type": "stream",
          "name": "stdout",
          "text": [
            "Initial Shapes - Q: torch.Size([1, 10, 6]), K: torch.Size([1, 10, 6]), V: torch.Size([1, 10, 6])\n",
            "Input tensor shape for splitting: torch.Size([1, 10, 6])\n",
            "Computed head_dim: 2\n",
            "Shape after reshaping for heads: torch.Size([1, 10, 3, 2])\n",
            "Shape after transpose: torch.Size([1, 3, 10, 2])\n",
            "Input tensor shape for splitting: torch.Size([1, 10, 6])\n",
            "Computed head_dim: 2\n",
            "Shape after reshaping for heads: torch.Size([1, 10, 3, 2])\n",
            "Shape after transpose: torch.Size([1, 3, 10, 2])\n",
            "Input tensor shape for splitting: torch.Size([1, 10, 6])\n",
            "Computed head_dim: 2\n",
            "Shape after reshaping for heads: torch.Size([1, 10, 3, 2])\n",
            "Shape after transpose: torch.Size([1, 3, 10, 2])\n",
            "After splitting heads - Q: torch.Size([1, 3, 10, 2]), K: torch.Size([1, 3, 10, 2]), V: torch.Size([1, 3, 10, 2])\n",
            "Raw attention scores shape: torch.Size([1, 3, 10, 10])\n",
            "Scaled attention scores shape: torch.Size([1, 3, 10, 10])\n",
            "Causal mask shape: torch.Size([10, 10])\n",
            "Masked attention scores shape: torch.Size([1, 3, 10, 10])\n",
            "Softmax probabilities shape: torch.Size([1, 3, 10, 10])\n",
            "Weighted sum of values shape: torch.Size([1, 3, 10, 2])\n",
            "Input tensor shape for merging: torch.Size([1, 3, 10, 2])\n",
            "Shape after transpose for merging: torch.Size([1, 10, 3, 2])\n",
            "Shape after merging heads: torch.Size([1, 10, 6])\n",
            "Final output shape: torch.Size([1, 10, 6])\n",
            "max diff: 1.7881393432617188e-07\n"
          ]
        }
      ],
      "source": [
        "######################################################\n",
        "#  The following code is given to you. DO NOT MODIFY.\n",
        "######################################################\n",
        "\n",
        "out_A = self_attention(part1_query, part1_key, part1_value, n_heads=3, causal=True)\n",
        "out_B = MHA_wrapper(part1_query, part1_key, part1_value, n_heads=3, causal=True)\n",
        "assert out_A.shape == out_B.shape == part1_query.shape\n",
        "\n",
        "print(\"max diff:\", (out_A - out_B).abs().max().item())"
      ]
    },
    {
      "cell_type": "markdown",
      "metadata": {
        "id": "Hv0Gdie08yx3"
      },
      "source": [
        "The max difference should be very small, our reference implementation gets a difference of the order of 1e-7\n"
      ]
    },
    {
      "cell_type": "markdown",
      "metadata": {
        "id": "jP-jYaN68yx3"
      },
      "source": [
        "## 1.2: Experiment with Your Transformer\n",
        "\n",
        "In this part, you will train a transformer-based language model. We will provide you the starter code for training the model and evaluating perplexity on a dataset. You will then explore changes to the network architecture and see how they affect the training and performance of the language model.\n",
        "\n",
        "**Note: We will NOT grade this part of the assignment.** This is an open-ended exercise. The following codes provide you with a basis to experiment with some perspectives of your attention block, and you will summarize your explorations in the write-up. We will only grade the write-up for part 2.2."
      ]
    },
    {
      "cell_type": "markdown",
      "metadata": {
        "id": "0APUT6ki8yx3"
      },
      "source": [
        "## Preparation: Modifications to Your Attention Implementation for section 2.2\n",
        "\n",
        "Below is space for you to work on a *modified* version of your attention implementation above for your experimentation in section 2.2. **Ensure your submitted code does not break the tests in section 2.1**; the easiest way to do this is to *copy* your implementation above (and probably condense it) and modify it below. We provide you pointers on what explorations you can do in the handout.\n",
        "\n",
        "You can also put any code anywhere in section 2.2; putting that code here is just a suggestion."
      ]
    },
    {
      "cell_type": "code",
      "execution_count": 98,
      "metadata": {
        "deletable": false,
        "nbgrader": {
          "cell_type": "code",
          "checksum": "addddf000a8e7380e6b5ddcaf39dbe4f",
          "grade": false,
          "grade_id": "cell-2834ef85f422e30d",
          "locked": false,
          "schema_version": 3,
          "solution": true,
          "task": false
        },
        "id": "HNpF2oXu8yx3"
      },
      "outputs": [],
      "source": [
        "def pre_softmax_masking_attention(Q, K, V, mask=None, **kwargs):\n",
        "    \"\"\"\n",
        "    Standard pre-softmax masking attention.\n",
        "    Args:\n",
        "        Q: Queries tensor of shape (B, n_heads, seq_len, d_k)\n",
        "        K: Keys tensor of shape (B, n_heads, seq_len, d_k)\n",
        "        V: Values tensor of shape (B, n_heads, seq_len, d_v)\n",
        "        mask: Mask tensor of shape (B, 1, seq_len, seq_len)\n",
        "    Returns:\n",
        "        Output tensor of shape (B, n_heads, seq_len, d_v)\n",
        "    \"\"\"\n",
        "    d_k = Q.size(-1)\n",
        "    scores = torch.matmul(Q, K.transpose(-2, -1)) / torch.sqrt(torch.tensor(d_k, dtype=torch.float32))\n",
        "    if mask is not None:\n",
        "        scores = scores.masked_fill(mask == 0, float('-inf'))\n",
        "    attn_weights = torch.nn.functional.softmax(scores, dim=-1)\n",
        "    output = torch.matmul(attn_weights, V)\n",
        "    return output\n",
        "\n",
        "\n",
        "def post_softmax_zero_masking_attention(Q, K, V, mask):\n",
        "    \"\"\"\n",
        "    Modified post-softmax zero masking attention.\n",
        "    Args:\n",
        "        Q: Queries tensor of shape (B, n_heads, seq_len, d_k)\n",
        "        K: Keys tensor of shape (B, n_heads, seq_len, d_k)\n",
        "        V: Values tensor of shape (B, n_heads, seq_len, d_v)\n",
        "        mask: Mask tensor of shape (B, 1, seq_len, seq_len)\n",
        "    Returns:\n",
        "        Output tensor of shape (B, n_heads, seq_len, d_v)\n",
        "    \"\"\"\n",
        "    d_k = Q.size(-1)\n",
        "    scores = torch.matmul(Q, K.transpose(-2, -1)) / torch.sqrt(torch.tensor(d_k, dtype=torch.float32))\n",
        "    attn_weights = F.softmax(scores, dim=-1)\n",
        "    if mask is not None:\n",
        "        attn_weights = attn_weights * mask\n",
        "    output = torch.matmul(attn_weights, V)\n",
        "    return output\n",
        "\n",
        "\n",
        "# <<<\n",
        "# YOUR CODE HERE\n",
        "\n",
        "\n",
        "\n",
        "def split_heads_qkv(Q, K, V, n_heads: int):\n",
        "    \"\"\"\n",
        "    Provided as a utility -- you can choose to not use it if you'd like.\n",
        "    \"\"\"\n",
        "    print(f\"Before splitting heads - Q: {Q.shape}, K: {K.shape}, V: {V.shape}\")\n",
        "    return (split_heads(Q, n_heads), split_heads(K, n_heads), split_heads(V, n_heads))\n",
        "    print(f\"After splitting heads - Q: {Q.shape}, K: {K.shape}, V: {V.shape}\")\n",
        "\n",
        "\n",
        "def split_heads(x, n_heads: int):\n",
        "    \"\"\"\n",
        "    Splitting x across multiple heads.\n",
        "    Inputs:\n",
        "    - x: torch.Tensor, shape (B, n_tok, n_embd) can be the queries, or keys, or values, where B is the batch size, n_tok is the number of tokens, and n_embd is the embedding dimension.\n",
        "    - n_heads: int, the number of heads.\n",
        "    :return: A split x, shape (B,n_heads, n_tok, n_embd // n_heads)\n",
        "    \"\"\"\n",
        "    B, n_tok, n_embd = x.size()\n",
        "    assert n_embd % n_heads == 0, \"d must be divisible by number of heads\"\n",
        "    # TODO:\n",
        "    x = x.view(B, n_tok, n_heads, n_embd // n_heads)\n",
        "    x = x.transpose(1, 2)\n",
        "    return x\n",
        "\n",
        "\n",
        "def merge_heads(y):\n",
        "    \"\"\"\n",
        "    Reversing splitting action of y.\n",
        "    Inputs:\n",
        "    - y: torch.Tensor, shape (B, n_heads, n_tok, n_embd // n_heads)\n",
        "    :return: A merged y, shape (B, n_tok, n_embd)\n",
        "    \"\"\"\n",
        "    B, nh, n_tok, nc = y.size()\n",
        "    # TODO:\n",
        "    y = y.transpose(1, 2)\n",
        "    y = y.contiguous().view(B, n_tok, nh * nc)\n",
        "    return y\n",
        "\n"
      ]
    },
    {
      "cell_type": "markdown",
      "metadata": {
        "id": "hXewZP6P8yx3"
      },
      "source": [
        "## Guideline for Section 1.2"
      ]
    },
    {
      "cell_type": "markdown",
      "metadata": {
        "id": "zyMWEcrq8yx3"
      },
      "source": [
        "What follows is the **starter code** for section 1.2. It includes the following:\n",
        "- Download the ngram data from Project 1\n",
        "- Download the fork of minGPT by Yegor, modified to receive an implementation of attention from an external source (i.e., this notebook)\n",
        "- Simple implementation of tokenization which is very similar to what you did for Project 1. Differences from Project 1:\n",
        "    - include `<START>` in the vocab\n",
        "    - truncate to a fixed maximum sequence length of 100 tokens\n",
        "    - pad with `<PAD>` to the max length\n",
        "- `<PAD>` is new -- the loss is set to ignore anything with this token, such that the model doesn't get optimized for learning how to pad, and instead gets trained for the actual text.\n",
        "- Model initialization is set up, but has not been tuned. Feel free to modify anything about it.\n",
        "- Simple trainer code to loop over the data and optimize on the model. We included a nice progress bar for you to watch while waiting.\n",
        "    - On the free-tier GPU in Colab, our provided starter code trains for an epoch (less than 2000 steps) within a few minutes. On CPU, it takes over an hour for even the smallest configuration.\n",
        "- Demonstration/explanation of loss calculation.\n",
        "- Per-document perplexity calculation like in Project 1, though it's a bit different:\n",
        "    - Due to the max training length, the learned positional embeddings won't extrapolate past 100 tokens. So, we actually only test on a *truncated* version of the data\n",
        "    - Most documents are less than 100 tokens and end up with a long chain of `<PAD>`s at the end. We don't want to include that in our loss/perplexity, so we show how to omit it from the calculation.\n",
        "- minGPT defines a very convenient `generate` function. We have a few example prompts you can try with it -- take a look at the kind of text your trained model generates.\n",
        "\n",
        "----\n",
        "\n",
        "**Feel free to modify the starter code as much as you want to!** We will focus on your report and not your code for section 2.2, so change anything. In particular, you will want to add more analysis/logging/comparisons for anything that's relevant to your experiment. Of course, that is in addition to the changes on top of part 2.1, as needed."
      ]
    },
    {
      "cell_type": "markdown",
      "metadata": {
        "id": "EVBntEaj8yx3"
      },
      "source": [
        "### Utilities, data, and imports"
      ]
    },
    {
      "cell_type": "code",
      "execution_count": 99,
      "metadata": {
        "colab": {
          "base_uri": "https://localhost:8080/"
        },
        "id": "XhizKkpU8yx3",
        "outputId": "2dd069e0-e5fe-4fde-b4cd-1316638415f0"
      },
      "outputs": [
        {
          "output_type": "stream",
          "name": "stderr",
          "text": [
            "--2024-12-08 04:17:16--  https://homes.cs.washington.edu/~kahuja/cse447/project1/data/shakespear_train.txt\n",
            "Resolving homes.cs.washington.edu (homes.cs.washington.edu)... 128.208.3.226, 2607:4000:200:12::e2\n",
            "Connecting to homes.cs.washington.edu (homes.cs.washington.edu)|128.208.3.226|:443... connected.\n",
            "HTTP request sent, awaiting response... 200 OK\n",
            "Length: 943314 (921K) [text/plain]\n",
            "Saving to: ‘data/shakespear_train.txt’\n",
            "\n",
            "     0K .......... .......... .......... .......... ..........  5%  590K 1s\n",
            "    50K .......... .......... .......... .......... .......... 10% 1.14M 1s\n",
            "   100K .......... .......... .......... .......... .......... 16% 1.24M 1s\n",
            "   150K .......... .......... .......... .......... .......... 21% 15.6M 1s\n",
            "   200K .......... .......... .......... .......... .......... 27% 58.2M 0s\n",
            "   250K .......... .......... .......... .......... .......... 32%  114M 0s\n",
            "   300K .......... .......... .......... .......... .......... 37% 1.27M 0s\n",
            "   350K .......... .......... .......... .......... .......... 43% 18.7M 0s\n",
            "   400K .......... .......... .......... .......... .......... 48% 97.9M 0s\n",
            "   450K .......... .......... .......... .......... .......... 54%  108M 0s\n",
            "   500K .......... .......... .......... .......... .......... 59% 73.5M 0s\n",
            "   550K .......... .......... .......... .......... .......... 65%  103M 0s\n",
            "   600K .......... .......... .......... .......... .......... 70%  130M 0s\n",
            "   650K .......... .......... .......... .......... .......... 75% 1.30M 0s\n",
            "   700K .......... .......... .......... .......... .......... 81% 23.6M 0s\n",
            "   750K .......... .......... .......... .......... .......... 86% 92.0M 0s\n",
            "   800K .......... .......... .......... .......... .......... 92%  155M 0s\n",
            "   850K .......... .......... .......... .......... .......... 97% 90.0M 0s\n",
            "   900K .......... .......... .                               100%  206M=0.3s\n",
            "\n",
            "2024-12-08 04:17:16 (3.52 MB/s) - ‘data/shakespear_train.txt’ saved [943314/943314]\n",
            "\n",
            "--2024-12-08 04:17:16--  https://homes.cs.washington.edu/~kahuja/cse447/project1/data/shakespear_dev.txt\n",
            "Resolving homes.cs.washington.edu (homes.cs.washington.edu)... 128.208.3.226, 2607:4000:200:12::e2\n",
            "Connecting to homes.cs.washington.edu (homes.cs.washington.edu)|128.208.3.226|:443... connected.\n",
            "HTTP request sent, awaiting response... 200 OK\n",
            "Length: 113449 (111K) [text/plain]\n",
            "Saving to: ‘data/shakespear_dev.txt’\n",
            "\n",
            "     0K .......... .......... .......... .......... .......... 45%  535K 0s\n",
            "    50K .......... .......... .......... .......... .......... 90% 1.05M 0s\n",
            "   100K ..........                                            100% 53.9M=0.1s\n",
            "\n",
            "2024-12-08 04:17:16 (791 KB/s) - ‘data/shakespear_dev.txt’ saved [113449/113449]\n",
            "\n",
            "--2024-12-08 04:17:16--  https://homes.cs.washington.edu/~kahuja/cse447/project1/data/shakespear_test.txt\n",
            "Resolving homes.cs.washington.edu (homes.cs.washington.edu)... 128.208.3.226, 2607:4000:200:12::e2\n",
            "Connecting to homes.cs.washington.edu (homes.cs.washington.edu)|128.208.3.226|:443... connected.\n",
            "HTTP request sent, awaiting response... 200 OK\n",
            "Length: 103515 (101K) [text/plain]\n",
            "Saving to: ‘data/shakespear_test.txt’\n",
            "\n",
            "     0K .......... .......... .......... .......... .......... 49%  589K 0s\n",
            "    50K .......... .......... .......... .......... .......... 98% 1.15M 0s\n",
            "   100K .                                                     100% 2.03T=0.1s\n",
            "\n",
            "2024-12-08 04:17:17 (793 KB/s) - ‘data/shakespear_test.txt’ saved [103515/103515]\n",
            "\n"
          ]
        }
      ],
      "source": [
        "%%bash\n",
        "# We will use the Shakespeare dataset we used in Project 1.\n",
        "mkdir -p data\n",
        "wget https://homes.cs.washington.edu/~kahuja/cse447/project1/data/shakespear_train.txt -O data/shakespear_train.txt\n",
        "wget https://homes.cs.washington.edu/~kahuja/cse447/project1/data/shakespear_dev.txt -O data/shakespear_dev.txt\n",
        "wget https://homes.cs.washington.edu/~kahuja/cse447/project1/data/shakespear_test.txt -O data/shakespear_test.txt"
      ]
    },
    {
      "cell_type": "code",
      "execution_count": 100,
      "metadata": {
        "id": "ggUPudjR8yx4"
      },
      "outputs": [],
      "source": [
        "%%bash\n",
        "# clone Yegor's fork of minGPT and link to the code\n",
        "[ -d \"mingpt-cse447\" ] || git clone https://gitlab.cs.washington.edu/yegork/mingpt-cse447.git\n",
        "[ -e \"mingpt\" ] || ln -s mingpt-cse447/mingpt mingpt"
      ]
    },
    {
      "cell_type": "code",
      "execution_count": 101,
      "metadata": {
        "id": "yxDoFlKd8yx4"
      },
      "outputs": [],
      "source": [
        "from mingpt.model import GPT\n",
        "from mingpt.trainer import Trainer\n",
        "\n",
        "import matplotlib.pyplot as plt\n",
        "from tqdm.auto import tqdm\n",
        "from collections import Counter\n",
        "import numpy as np"
      ]
    },
    {
      "cell_type": "markdown",
      "metadata": {
        "id": "U4o_bNHd8yx9"
      },
      "source": [
        "### Dataset processing"
      ]
    },
    {
      "cell_type": "code",
      "execution_count": 102,
      "metadata": {
        "colab": {
          "base_uri": "https://localhost:8080/"
        },
        "id": "2UACeV0w8yx9",
        "outputId": "b3b9c925-ee56-4ee8-fad3-78ecec4bcc41"
      },
      "outputs": [
        {
          "output_type": "stream",
          "name": "stdout",
          "text": [
            "First Citizen : Before we proceed any further , hear me speak .\n",
            "All : Speak , speak .\n",
            "First Citizen : You are all resolved rather to die than to famish ?\n",
            "All : Resolved .\n",
            "resolved .\n",
            "First Citizen : First , you know Caius Marcius is chief enemy to the people .\n",
            "All : We know't , we know't .\n",
            "First Citizen : Let us kill him , and we 'll have corn at our own price .\n",
            "Is't a verdict ?\n",
            "All : No more talking o n't ; let it be done : away , away !\n"
          ]
        }
      ],
      "source": [
        "%%bash\n",
        "# recall that our data is just a text file of space-separated tokens, with new lines separating documents\n",
        "cat data/shakespear_train.txt | head -n 10"
      ]
    },
    {
      "cell_type": "code",
      "execution_count": 103,
      "metadata": {
        "colab": {
          "base_uri": "https://localhost:8080/"
        },
        "id": "WnAeUSr58yx9",
        "outputId": "1d40fffc-9d60-43aa-fd30-b6d61dc514d4"
      },
      "outputs": [
        {
          "output_type": "stream",
          "name": "stdout",
          "text": [
            "train docs: 9875\n",
            "total train tokens: 206589\n"
          ]
        }
      ],
      "source": [
        "with open(\"data/shakespear_train.txt\", \"r\") as f: lines_train = f.readlines()\n",
        "with open(\"data/shakespear_dev.txt\", \"r\") as f: lines_dev = f.readlines()\n",
        "with open(\"data/shakespear_test.txt\", \"r\") as f: lines_test = f.readlines()\n",
        "\n",
        "# each element is a list of tokens\n",
        "tokens_train = [line.split() for line in lines_train]\n",
        "\n",
        "print(f\"train docs: {len(tokens_train)}\")\n",
        "print(f\"total train tokens: {sum(len(t) for t in tokens_train)}\")\n",
        "\n",
        "\n",
        "# utility fn to flatten the tokens structure\n",
        "def flat(tokens):\n",
        "    for t in tokens:\n",
        "        yield from t"
      ]
    },
    {
      "cell_type": "code",
      "execution_count": 104,
      "metadata": {
        "colab": {
          "base_uri": "https://localhost:8080/"
        },
        "id": "fU7Vx5wI8yx9",
        "outputId": "be6a5077-84db-4947-e13c-19e62587b5cf"
      },
      "outputs": [
        {
          "output_type": "stream",
          "name": "stdout",
          "text": [
            "unique_tokens: 12613\n",
            "unique_tokens, count>=3: 4622\n",
            "sentence='More people have said an Escher sentence than I have .'\n",
            "tokenized=[0, 419, 271, 32, 334, 112, 2, 1174, 97, 8, 32, 6, 1, 3, 3, 3, 3, 3, 3, 3, 3, 3, 3, 3, 3]\n",
            "decoded='<START> More people have said an <UNK> sentence than I have . <STOP> <PAD> <PAD> <PAD> <PAD> <PAD> <PAD> <PAD> <PAD> <PAD> <PAD> <PAD> <PAD>'\n"
          ]
        }
      ],
      "source": [
        "# get counts of each token sorted by count, descending\n",
        "# also add a few special tokens (with high counts) so they appear first\n",
        "token_counts = Counter(flat(tokens_train))\n",
        "token_counts[\"<START>\"] = 1000004\n",
        "token_counts[\"<STOP>\"] = 1000003\n",
        "token_counts[\"<UNK>\"] = 1000002\n",
        "token_counts[\"<PAD>\"] = 1000001\n",
        "sorted_tokens = sorted(token_counts.items(), key=lambda x: x[1], reverse=True)\n",
        "\n",
        "print(\"unique_tokens:\", len(token_counts))\n",
        "print(\"unique_tokens, count>=3:\", len([t for t in sorted_tokens if t[1] >= 3]))\n",
        "\n",
        "# make tokenizer for all tokens with count >= 3\n",
        "# note that our tokenizer ends up including START and STOP tokens too\n",
        "tokenizer = {t[0]: i for i, t in enumerate(sorted_tokens) if t[1] >= 3}\n",
        "\n",
        "\n",
        "def pad_to_length(tokens, max_len, tokenizer=tokenizer):\n",
        "    return tokens[:max_len] + [tokenizer[\"<PAD>\"]] * (max_len - len(tokens))\n",
        "\n",
        "\n",
        "def tokenize(sentence, pad_to_len=None, include_stop=True, tokenizer=tokenizer):\n",
        "    words = [tokenizer.get(w, tokenizer[\"<UNK>\"]) for w in sentence.split()]\n",
        "    # add START and STOP tokens\n",
        "    tokens = [tokenizer[\"<START>\"]] + words + ([tokenizer[\"<STOP>\"]] * include_stop)\n",
        "\n",
        "    if pad_to_len is not None:\n",
        "        tokens = pad_to_length(tokens, pad_to_len, tokenizer=tokenizer)\n",
        "    return tokens\n",
        "\n",
        "\n",
        "# invert tokenizer for decoding\n",
        "tokenizer_inv = {v: k for k, v in tokenizer.items()}\n",
        "\n",
        "\n",
        "def decode(tokens, tokenizer_inv=tokenizer_inv, end_at_stop=True, omit_pad=True):\n",
        "    tokens = [tokenizer_inv[t] for t in tokens]\n",
        "    if omit_pad:\n",
        "        tokens = [t for t in tokens if t != \"<PAD>\"]\n",
        "    if end_at_stop and \"<STOP>\" in tokens:\n",
        "        tokens = tokens[: tokens.index(\"<STOP>\") + 1]\n",
        "    return \" \".join(tokens)\n",
        "\n",
        "\n",
        "sentence = \"More people have said an Escher sentence than I have .\"\n",
        "tokenized = tokenize(sentence, pad_to_len=25)  # pad to only 25 so it looks nice\n",
        "decoded = decode(tokenized, end_at_stop=False, omit_pad=False)\n",
        "print(f\"{sentence=}\\n{tokenized=}\\n{decoded=}\")"
      ]
    },
    {
      "cell_type": "code",
      "execution_count": 105,
      "metadata": {
        "colab": {
          "base_uri": "https://localhost:8080/",
          "height": 472
        },
        "id": "6GCjtDbr8yx9",
        "outputId": "faf1412d-dcb5-43f2-f411-0c58da5ce05c"
      },
      "outputs": [
        {
          "output_type": "display_data",
          "data": {
            "text/plain": [
              "<Figure size 640x480 with 1 Axes>"
            ],
            "image/png": "[encoded data removed]"
          },
          "metadata": {}
        }
      ],
      "source": [
        "plt.hist([len(t) for t in tokens_train], bins=50)\n",
        "plt.title(\"sequence lengths in the train dataset by tokens\")\n",
        "plt.ylabel(\"# of sequences\")\n",
        "plt.xlabel(\"sequence length in tokens\")\n",
        "plt.show()"
      ]
    },
    {
      "cell_type": "code",
      "execution_count": 106,
      "metadata": {
        "colab": {
          "base_uri": "https://localhost:8080/"
        },
        "id": "jsqPFqy48yx9",
        "outputId": "48349b3a-f725-440c-a8ab-f68806f88af5"
      },
      "outputs": [
        {
          "output_type": "execute_result",
          "data": {
            "text/plain": [
              "(torch.Size([9875, 100]), torch.Size([1304, 100]))"
            ]
          },
          "metadata": {},
          "execution_count": 106
        }
      ],
      "source": [
        "# Notice above that the vast majority of sequences have less than 100 tokens.\n",
        "# For performance we will thus truncate to 100 tokens.\n",
        "\n",
        "MAX_LEN = 100\n",
        "DEVICE = \"cuda\" if torch.cuda.is_available() else \"cpu\"\n",
        "\n",
        "data_train = torch.tensor(\n",
        "    [tokenize(t, MAX_LEN) for t in lines_train if len(t) > 0], dtype=torch.long\n",
        ")\n",
        "data_val = torch.tensor(\n",
        "    [tokenize(t, MAX_LEN) for t in lines_dev if len(t) > 0], dtype=torch.long\n",
        ")\n",
        "\n",
        "data_train.shape, data_val.shape"
      ]
    },
    {
      "cell_type": "code",
      "execution_count": 107,
      "metadata": {
        "colab": {
          "base_uri": "https://localhost:8080/"
        },
        "id": "4fXYUdhK8yx-",
        "outputId": "ff8a6174-e725-4f24-b785-98964df3016f"
      },
      "outputs": [
        {
          "output_type": "execute_result",
          "data": {
            "text/plain": [
              "(tensor([   0,   99,   50,   15, 1562,   12,  873, 1563,    6,    1,    3,    3,\n",
              "            3,    3,    3,    3,    3,    3,    3,    3,    3,    3,    3,    3,\n",
              "            3,    3,    3,    3,    3,    3,    3,    3,    3,    3,    3,    3,\n",
              "            3,    3,    3,    3,    3,    3,    3,    3,    3,    3,    3,    3,\n",
              "            3,    3,    3,    3,    3,    3,    3,    3,    3,    3,    3,    3,\n",
              "            3,    3,    3,    3,    3,    3,    3,    3,    3,    3,    3,    3,\n",
              "            3,    3,    3,    3,    3,    3,    3,    3,    3,    3,    3,    3,\n",
              "            3,    3,    3,    3,    3,    3,    3,    3,    3,    3,    3,    3,\n",
              "            3,    3,    3]),\n",
              " tensor([  99,   50,   15, 1562,   12,  873, 1563,    6,    1,    3,    3,    3,\n",
              "            3,    3,    3,    3,    3,    3,    3,    3,    3,    3,    3,    3,\n",
              "            3,    3,    3,    3,    3,    3,    3,    3,    3,    3,    3,    3,\n",
              "            3,    3,    3,    3,    3,    3,    3,    3,    3,    3,    3,    3,\n",
              "            3,    3,    3,    3,    3,    3,    3,    3,    3,    3,    3,    3,\n",
              "            3,    3,    3,    3,    3,    3,    3,    3,    3,    3,    3,    3,\n",
              "            3,    3,    3,    3,    3,    3,    3,    3,    3,    3,    3,    3,\n",
              "            3,    3,    3,    3,    3,    3,    3,    3,    3,    3,    3,    3,\n",
              "            3,    3,    3]))"
            ]
          },
          "metadata": {},
          "execution_count": 107
        }
      ],
      "source": [
        "# X is all but last token, Y is all but first token\n",
        "train_dataset = torch.utils.data.TensorDataset(data_train[:, :-1], data_train[:, 1:])\n",
        "val_dataset = torch.utils.data.TensorDataset(data_val[:, :-1], data_val[:, 1:])\n",
        "\n",
        "# example X,Y pair from train dataset -- 2 is <START>, 3 is <STOP>\n",
        "train_dataset[447]"
      ]
    },
    {
      "cell_type": "markdown",
      "metadata": {
        "id": "hoA5N4Xg8yx-"
      },
      "source": [
        "### Model and Trainer code"
      ]
    },
    {
      "cell_type": "code",
      "execution_count": 108,
      "metadata": {
        "colab": {
          "base_uri": "https://localhost:8080/"
        },
        "id": "CYrT8LDD8yx-",
        "outputId": "5458868c-6744-4957-d133-f8888229db45"
      },
      "outputs": [
        {
          "output_type": "stream",
          "name": "stdout",
          "text": [
            "number of parameters: 0.36M\n"
          ]
        }
      ],
      "source": [
        "model_config = GPT.get_default_config()\n",
        "model_config.model_type = None\n",
        "model_config.pad_token = tokenizer[\"<PAD>\"]\n",
        "\n",
        "# This configuration is the very small 'gpt-nano' defined in minGPT. we'd use a\n",
        "# bigger model like 'gpt2' but it would take a very long time to train :(\n",
        "# See minGPT/model.py for configurations of other models\n",
        "model_config.model_type = \"gpt-nano\"\n",
        "# 'gpt-nano' equivalent to:\n",
        "# model_config.n_layer = 3\n",
        "# model_config.n_head = 3\n",
        "# model_config.n_embd = 48\n",
        "\n",
        "model_config.vocab_size = max(tokenizer.values()) + 1\n",
        "# model_config.vocab_size = 50257 # openai's model vocabulary, if using gpt2 BPE\n",
        "\n",
        "# The model's context length\n",
        "# Note that minGPT has learned posemb, so outside the used maxlen wont really work\n",
        "model_config.block_size = 1024\n",
        "\n",
        "# We modified config to accept some functions for attention\n",
        "# Feel free to replace either of these!\n",
        "model_config.attn_init_fn = init_qkv_proj\n",
        "model_config.attn_fn = pre_softmax_masking_attention\n",
        "\n",
        "# Can use the wrapper around PyTorch's multi-head attention instead, but it's hard to modify for experiments\n",
        "# model_config.attn_fn = MHA_wrapper\n",
        "\n",
        "model = GPT(model_config)"
      ]
    },
    {
      "cell_type": "code",
      "execution_count": 109,
      "metadata": {
        "colab": {
          "base_uri": "https://localhost:8080/"
        },
        "id": "S7H1mTnM8yx-",
        "outputId": "f1a0647f-a48a-4988-dcd8-0c2e0f488739"
      },
      "outputs": [
        {
          "output_type": "stream",
          "name": "stdout",
          "text": [
            "running on device cpu\n"
          ]
        }
      ],
      "source": [
        "train_config = Trainer.get_default_config()\n",
        "train_config.device = DEVICE\n",
        "train_config.num_workers = 2\n",
        "\n",
        "# We didn't tune the hyperparameters at all, feel free to change\n",
        "train_config.learning_rate = 5e-4\n",
        "train_config.batch_size = 32\n",
        "train_config.max_iters = 3 * (\n",
        "    len(train_dataset) // train_config.batch_size\n",
        ")  # train for 3 epochs\n",
        "\n",
        "trainer = Trainer(train_config, model, train_dataset)\n",
        "log = []"
      ]
    },
    {
      "cell_type": "code",
      "execution_count": 110,
      "metadata": {
        "colab": {
          "base_uri": "https://localhost:8080/",
          "height": 49,
          "referenced_widgets": [
            "013df9764e9148a98a3842b98d34991e",
            "8dada7bb6dd1449bb977554e73fe397b",
            "d5d2b28b5b5f44d2b5138c730baf6233",
            "5c8bb3907c2a4c4dab76ba5a6e7dfa6a",
            "aa173e09c9134ef5a11f547e36c339d7",
            "d3574c6614e149be926f27991dab75f1",
            "9a0b48af08ee49c5933a0f79b0c82b97",
            "60260b1f6bdc4a218e501af87617de31",
            "173cea3dce184e828715bb5c3598cb85",
            "640677cb1d86498ba87a56ca352d6091",
            "23a91bb76e6a4704aad4c4f2a28a8491"
          ]
        },
        "id": "QMSIJ30t8yx-",
        "outputId": "dcba94df-3d3b-410a-fdf5-9b5da40e40a7"
      },
      "outputs": [
        {
          "output_type": "display_data",
          "data": {
            "text/plain": [
              "  0%|          | 0/924 [00:00<?, ?it/s]"
            ],
            "application/vnd.jupyter.widget-view+json": {
              "version_major": 2,
              "version_minor": 0,
              "model_id": "013df9764e9148a98a3842b98d34991e"
            }
          },
          "metadata": {}
        }
      ],
      "source": [
        "model.to(DEVICE)\n",
        "model.train()\n",
        "\n",
        "bar = tqdm(total=train_config.max_iters)\n",
        "\n",
        "\n",
        "@torch.no_grad()\n",
        "def on_batch_end(trainer):\n",
        "    log.append(trainer.loss.item())\n",
        "    bar.set_postfix(loss=trainer.loss.item())\n",
        "    bar.update()\n",
        "\n",
        "\n",
        "trainer.set_callback(\"on_batch_end\", on_batch_end)\n",
        "trainer.run()\n",
        "bar.close()"
      ]
    },
    {
      "cell_type": "code",
      "execution_count": 111,
      "metadata": {
        "colab": {
          "base_uri": "https://localhost:8080/",
          "height": 449
        },
        "id": "iwfut4ny8yx-",
        "outputId": "841217ae-b608-4da7-a609-32c72cd5b057"
      },
      "outputs": [
        {
          "output_type": "display_data",
          "data": {
            "text/plain": [
              "<Figure size 640x480 with 1 Axes>"
            ],
            "image/png": "[encoded data removed]"
          },
          "metadata": {}
        }
      ],
      "source": [
        "plt.plot(log)\n",
        "plt.xlabel(\"step\")\n",
        "plt.ylabel(\"loss\")\n",
        "plt.show()"
      ]
    },
    {
      "cell_type": "markdown",
      "metadata": {
        "id": "RCNxVw8S8yx-"
      },
      "source": [
        "### Evaluation\n",
        "\n",
        "Like in Project 1, we will treat each line in the data file as a separate document. So, compute perplexity for each line separately and then take the average across all lines.\n",
        "\n",
        "However, the way we processed our data for batching makes it slightly more complicated, because the loss is averaged over tokens. While this would normally be simple, recall that we insert `<PAD>` tokens as padding until 100 tokens, and the vast majority of documents are significantly less than 100 tokens. This means that most of our tokens are the long tail of `<PAD>`s.\n",
        "\n",
        "So, we wish to exlude every `<PAD>` from perplexity calculations. Since the loss returned by the model is averaged for all tokens. PyTorch has great utilities for excluding a padding token from calculations, but we will also do this manually as a demonstration.\n",
        "\n",
        "However, this isn't the end of the story. Ideally, we would make `<PAD>` tokens have no effect whatsoever. For this to happen, we should apply a mask out all attention to and from `<PAD>` tokens, but we chose not to include that in your required implementation. The fact that we did not implement this has no measurable impact because our minGPT fork zeros out values for `<PAD>` tokens after attention anyway."
      ]
    },
    {
      "cell_type": "code",
      "execution_count": 112,
      "metadata": {
        "colab": {
          "base_uri": "https://localhost:8080/"
        },
        "id": "AYmmRXQp8yx-",
        "outputId": "efbd9277-c93d-48cf-a6cd-ab79a716dca6"
      },
      "outputs": [
        {
          "output_type": "stream",
          "name": "stdout",
          "text": [
            "notice the long tail of PAD tokens:  [0, 3257, 14, 39, 160, 2, 10, 2, 31, 44, 30, 382, 25, 33, 17, 1, 3, 3, 3, 3, 3, 3, 3, 3, 3, 3, 3, 3, 3, 3, 3, 3, 3, 3, 3, 3, 3, 3, 3, 3, 3, 3, 3, 3, 3, 3, 3, 3, 3, 3, 3, 3, 3, 3, 3, 3, 3, 3, 3, 3, 3, 3, 3, 3, 3, 3, 3, 3, 3, 3, 3, 3, 3, 3, 3, 3, 3, 3, 3, 3, 3, 3, 3, 3, 3, 3, 3, 3, 3, 3, 3, 3, 3, 3, 3, 3, 3, 3, 3, 3]\n",
            "\n",
            "reported loss from model:\t 2.501478672027588\n",
            "manually calculated loss:\t 2.501478672027588\n",
            "manually calculated loss again:\t 2.501478672027588\n",
            "perplexity: 12.200521469116211\n"
          ]
        }
      ],
      "source": [
        "sentence = \"Thank you so much Liwei and Taylor for all your help with this !\"\n",
        "\n",
        "tokens = torch.tensor([tokenize(sentence, pad_to_len=MAX_LEN)], dtype=torch.long)\n",
        "X_tokens, y_tokens = tokens[:, :-1], tokens[:, 1:]\n",
        "\n",
        "print(\"notice the long tail of PAD tokens: \", tokens.cpu()[0].tolist())\n",
        "\n",
        "model.eval()\n",
        "with torch.no_grad():\n",
        "    logits, loss = model(X_tokens.to(DEVICE), y_tokens.to(DEVICE))\n",
        "    logits, loss = logits.cpu(), loss.cpu()\n",
        "\n",
        "# Preprocess logits to unpad -- will be (jagged) list of tensors\n",
        "# We impl looping over them\n",
        "# students have to: convert 1 document's raw logits + y_tokens into loss and ppl\n",
        "\n",
        "# There's more ways to get the loss!\n",
        "\n",
        "# We could use F.cross_entropy with the logits -- this is what the model does\n",
        "# F.cross_entropy can take an \"ignore_index\", which makes it ignore our pad token\n",
        "also_loss = F.cross_entropy(\n",
        "    logits.flatten(0, 1), y_tokens.flatten(0, 1), ignore_index=tokenizer[\"<PAD>\"]\n",
        ")\n",
        "\n",
        "# However, we can just do the calculations manually because we enjoy being perplexed\n",
        "\n",
        "# softmax the logits to get probabilities\n",
        "probs = F.softmax(logits, dim=-1)\n",
        "\n",
        "# work with log of the probabilities for numerical stability\n",
        "log_probs = torch.log(probs)\n",
        "\n",
        "# this is weird pytorch screwery to index into last dimension of log_probs with y_tokens\n",
        "# this selects only the log probabilities of the target tokens\n",
        "y_log_probs = torch.gather(log_probs, -1, y_tokens[..., None])[..., 0]\n",
        "\n",
        "# get all the target log probabilities EXCEPT for when that target token is <PAD>\n",
        "not_pad_y_log_probs = y_log_probs[y_tokens != tokenizer[\"<PAD>\"]]\n",
        "\n",
        "# negative average of the log probs of the target tokens is exactly crossentropy loss here!\n",
        "also_loss_again = -not_pad_y_log_probs.mean()\n",
        "\n",
        "print()\n",
        "print(\"reported loss from model:\\t\", loss.item())\n",
        "print(\"manually calculated loss:\\t\", also_loss.item())\n",
        "print(\"manually calculated loss again:\\t\", also_loss_again.item())\n",
        "\n",
        "# we can calculate perplexity using the crossentropy loss\n",
        "perplexity = torch.exp(also_loss)\n",
        "print(\"perplexity:\", perplexity.item())"
      ]
    },
    {
      "cell_type": "code",
      "execution_count": 113,
      "metadata": {
        "id": "royCs-ut8yx-"
      },
      "outputs": [],
      "source": [
        "\"\"\"\n",
        "We've made a utility function to calculate loss per-document for some data.\n",
        "It accepts a list of strings, tokenizes, evaluates, and returns a list of floats.\n",
        "\"\"\"\n",
        "\n",
        "@torch.no_grad\n",
        "def evaluate_losses(data, model=model, bs=32, progress=True, pad_to_len=MAX_LEN):\n",
        "    it = range(0, len(data), bs)\n",
        "    if progress:\n",
        "        it = tqdm(it)\n",
        "\n",
        "    out = []\n",
        "    for b_start in it:\n",
        "        batch = slice(b_start, b_start + bs)\n",
        "        tokens = torch.tensor(\n",
        "            [tokenize(t, pad_to_len=pad_to_len) for t in data[batch]], dtype=torch.long\n",
        "        ).to(DEVICE)\n",
        "        X_tokens, y_tokens = tokens[:, :-1].contiguous(), tokens[:, 1:].contiguous()\n",
        "\n",
        "        model.eval()\n",
        "        logits, _ = model(X_tokens)\n",
        "        log_probs = F.log_softmax(logits, dim=-1)\n",
        "        y_log_probs = torch.gather(log_probs, 2, y_tokens[..., None])[..., 0]\n",
        "\n",
        "        for i in range(y_tokens.shape[0]):\n",
        "            not_pad = y_tokens[i] != tokenizer[\"<PAD>\"]\n",
        "            loss = -y_log_probs[i, not_pad].mean()\n",
        "            out.append(loss.item())\n",
        "\n",
        "    return out"
      ]
    },
    {
      "cell_type": "code",
      "execution_count": 114,
      "metadata": {
        "colab": {
          "base_uri": "https://localhost:8080/"
        },
        "id": "i22mZRpP8yx-",
        "outputId": "c0644908-e36f-4f55-c83a-e63965c77de5"
      },
      "outputs": [
        {
          "output_type": "stream",
          "name": "stdout",
          "text": [
            "loss: 2.682979106903076\n",
            "perplexity: 14.628608634239509\n"
          ]
        }
      ],
      "source": [
        "# calculate loss and perplexity for a single sentence\n",
        "is_this_loss = evaluate_losses(\n",
        "    [\n",
        "        \"RICHARD II : I will not be afraid of death . I will not be afraid of death .\",\n",
        "    ],\n",
        "    progress=False,\n",
        ")[0]\n",
        "print(\"loss:\", is_this_loss)\n",
        "print(\"perplexity:\", np.exp(is_this_loss))"
      ]
    },
    {
      "cell_type": "code",
      "execution_count": 115,
      "metadata": {
        "colab": {
          "base_uri": "https://localhost:8080/",
          "height": 66,
          "referenced_widgets": [
            "8cf3ac70c9704b50b8c80a5d7e1dc7ab",
            "0ca39cc982a5462ea590f0db43ddb823",
            "9cbda1bf6f1c487ebd1d84122d34e6b6",
            "728e79d883144cc48e04d05151a2ca89",
            "63fadedd74fa4c7db64096e1c6c26836",
            "39b52d66837348ae9f2d864258dbb98b",
            "179bb90fd1444146bf20f013a07eba9b",
            "0351a04608b94a8fb4ebfd888742e2b0",
            "15fa0ce466314a8f9808686de277882e",
            "c6d9f1a399eb4389884ec77a673bfbfd",
            "dc6431b9219b4f7aabe554adadc0fd62"
          ]
        },
        "id": "grgtLbBM8yx-",
        "outputId": "7f1fa78e-3be0-4909-c5dc-cfa684014f0b"
      },
      "outputs": [
        {
          "output_type": "display_data",
          "data": {
            "text/plain": [
              "  0%|          | 0/309 [00:00<?, ?it/s]"
            ],
            "application/vnd.jupyter.widget-view+json": {
              "version_major": 2,
              "version_minor": 0,
              "model_id": "8cf3ac70c9704b50b8c80a5d7e1dc7ab"
            }
          },
          "metadata": {}
        },
        {
          "output_type": "stream",
          "name": "stdout",
          "text": [
            "train perplexity: 33.25163653101409\n"
          ]
        }
      ],
      "source": [
        "train_losses = evaluate_losses(lines_train)\n",
        "print(\"train perplexity:\", np.mean(np.exp(train_losses)))"
      ]
    },
    {
      "cell_type": "code",
      "execution_count": 116,
      "metadata": {
        "colab": {
          "base_uri": "https://localhost:8080/",
          "height": 66,
          "referenced_widgets": [
            "bf3dc7a059264910a4650a24a6e69c44",
            "92bae3cf63f74ab39d70a207124b1566",
            "7e456dbd830c4172ac9e09d4dc74a039",
            "f5750f9a58644048a0860ad003c60db9",
            "5e45757b5c044c17ab0ff0897c7d9b7f",
            "467f80ba9d1747fe8b04c40f4946299c",
            "d117866be78d4f4bbdc33ae197a5e390",
            "e0284c850c744ab18587ca87cb2239df",
            "e7e0742d2aae42519d7b34ef9406cd0e",
            "524252132bfe49698ab9df7f7dd9750a",
            "0bf91b553c4a415abf5636cf5607ceb2"
          ]
        },
        "id": "msGZd0Bq8yx-",
        "outputId": "1448d5ea-976d-4de0-ab98-ffe708cbbe1d"
      },
      "outputs": [
        {
          "output_type": "display_data",
          "data": {
            "text/plain": [
              "  0%|          | 0/41 [00:00<?, ?it/s]"
            ],
            "application/vnd.jupyter.widget-view+json": {
              "version_major": 2,
              "version_minor": 0,
              "model_id": "bf3dc7a059264910a4650a24a6e69c44"
            }
          },
          "metadata": {}
        },
        {
          "output_type": "stream",
          "name": "stdout",
          "text": [
            "dev perplexity: 25.099603314231384\n"
          ]
        }
      ],
      "source": [
        "dev_losses = evaluate_losses(lines_dev)\n",
        "print(\"dev perplexity:\", np.mean(np.exp(dev_losses)))"
      ]
    },
    {
      "cell_type": "markdown",
      "metadata": {
        "id": "OGO2Xoi88yx-"
      },
      "source": [
        "With the implementation on attention in Part 1, you should see that dev perplexity is close to the best perplexities that we achieved using N-gram models and interpolation in Project 1. The reason we don't do much better is that we are using a very small dataset and not doing much tuning. Transformer LMs become much more powerful when we have a whole lot of data."
      ]
    },
    {
      "cell_type": "markdown",
      "metadata": {
        "id": "51JJ3_zB8yx-"
      },
      "source": [
        "Your task now is to make modifications to the attention mechanisms based on the guidelines in the handout and explore the effects of these changes."
      ]
    },
    {
      "cell_type": "code",
      "execution_count": 117,
      "metadata": {
        "colab": {
          "base_uri": "https://localhost:8080/"
        },
        "id": "nTqoRrzf8yx_",
        "outputId": "6f1b7b4a-3938-409a-d3ef-227962f2385a"
      },
      "outputs": [
        {
          "output_type": "stream",
          "name": "stdout",
          "text": [
            "<START> 'll : DUKE DUKE OF ? <STOP>\n",
            "<START> -- You Run sins mark With Within Great weary Her when thou thou thou Romeo minute perpetual heart sir looks thou ? <STOP>\n",
            "<START> OF YORK of of of that Tybalt which traitors glory parents walls . <STOP>\n",
            "<START> First well what your this fain Buckingham Say Wherefore wind Seize young a his deposed prosperity rash yoke odd blood made his mercy unto him enmity from victory with any pride not Wiltshire , Love some hands be raven infected wives 'd speed respect on wont . <STOP>\n",
            "<START> Clown LEONTES 't he he thou points Verona theirs Exeter scouts cushion Citizens hanging if never for so be Hermione turn it while God then did fully bosom ? <STOP>\n",
            "<START> DUKE OF POMPEY HERMIONE frank they it you you not be For for was golden impose ? <STOP>\n",
            "<START> KING divine according bleed prays Caius peevish my I I I I then pardon ten faces doubt I I , to he made either for't I came will how die traitors : I tell I do I know I am we please you see you purchase well rather be I comes you do I 'll do occasion ? <STOP>\n",
            "<START> BOLINGBROKE YORK , , Will with to of of through jocund dread Whither 'fore CLEOMENES of of many downright Having Live several election remedy nor glad such greets in lamentation where how branch 'd by subtle of Didst offended power of fares The foil hours in instant ; Save The extreme acknowledge of joy of title of witness in reverend since MARGARET , race put 'd in EDWARD ; tear 'd laid of man to NORTHUMBERLAND ; A requite ; His ability At flat next hid at crept purpose 'd bigger been of Down ; plead , Their other\n",
            "<START> PRINCE tent ten appear Duke morning yet and And That which manhood Troy fires familiar ignorant 't And So curses less served long deed purpose , We else rabble twice My back But Like longer Shall hast mine holy prince lords that man , My <UNK> that grave and lack and so proper hands and now my blood and majesty and run citizens course and their good but mad other tongue but more men impose thoughts : quarrel left Plantagenet I cry and command arrived and news and sway : Not name as thou early man she speak May\n",
            "<START> CAPULET BOLINGBROKE ports fliers ballad valiant an shadows aloof confidence BUCKINGHAM Senator Tybalt Prince Greece stain misery ignorance giving lowly shrift conscience patricians male fighting Banish leader nightingale Mariner Exeter general wast earthly CARLISLE broke straight refuge wanting purple cast a Gentleman nest midnight me us quarrel maintain move Surrey hollow Bona untimely ashes sing impediment fiery carries others Love salt wring sole Still Scotland general behind him meant sides Hie afford courtesy HENRY VI Servant command bred me tale suffer amity ride me seeming renown by special excuse LARTIUS : Therefore promised how heap me tragic requires Mantua\n"
          ]
        }
      ],
      "source": [
        "# Here's an example of generating using the model -- see generate in minGPT's model.py\n",
        "\n",
        "sentence = \"\"  # empty prompt -> sample from model at random\n",
        "# sentence = 'unfortunately ,'          # can sample more negative stuff\n",
        "# sentence = 'fun fact : did you know'  # AI-generated fun facts\n",
        "\n",
        "tokens = torch.tensor([tokenize(sentence, include_stop=False)], dtype=torch.long).to(\n",
        "    DEVICE\n",
        ")\n",
        "\n",
        "for _ in range(10):\n",
        "    pred = model.generate(\n",
        "        tokens, MAX_LEN - tokens.shape[-1], temperature=1.0, do_sample=True, top_k=None\n",
        "    )\n",
        "\n",
        "    print(decode(pred[0].tolist()))"
      ]
    }
  ],
  "metadata": {
    "kernelspec": {
      "display_name": "Python 3",
      "language": "python",
      "name": "python3"
    },
    "language_info": {
      "codemirror_mode": {
        "name": "ipython",
        "version": 3
      },
      "file_extension": ".py",
      "mimetype": "text/x-python",
      "name": "python",
      "nbconvert_exporter": "python",
      "pygments_lexer": "ipython3",
      "version": "3.12.3"
    },
    "colab": {
      "provenance": []
    },
    "widgets": {
      "application/vnd.jupyter.widget-state+json": {
        "013df9764e9148a98a3842b98d34991e": {
          "model_module": "@jupyter-widgets/controls",
          "model_name": "HBoxModel",
          "model_module_version": "1.5.0",
          "state": {
            "_dom_classes": [],
            "_model_module": "@jupyter-widgets/controls",
            "_model_module_version": "1.5.0",
            "_model_name": "HBoxModel",
            "_view_count": null,
            "_view_module": "@jupyter-widgets/controls",
            "_view_module_version": "1.5.0",
            "_view_name": "HBoxView",
            "box_style": "",
            "children": [
              "IPY_MODEL_8dada7bb6dd1449bb977554e73fe397b",
              "IPY_MODEL_d5d2b28b5b5f44d2b5138c730baf6233",
              "IPY_MODEL_5c8bb3907c2a4c4dab76ba5a6e7dfa6a"
            ],
            "layout": "IPY_MODEL_aa173e09c9134ef5a11f547e36c339d7"
          }
        },
        "8dada7bb6dd1449bb977554e73fe397b": {
          "model_module": "@jupyter-widgets/controls",
          "model_name": "HTMLModel",
          "model_module_version": "1.5.0",
          "state": {
            "_dom_classes": [],
            "_model_module": "@jupyter-widgets/controls",
            "_model_module_version": "1.5.0",
            "_model_name": "HTMLModel",
            "_view_count": null,
            "_view_module": "@jupyter-widgets/controls",
            "_view_module_version": "1.5.0",
            "_view_name": "HTMLView",
            "description": "",
            "description_tooltip": null,
            "layout": "IPY_MODEL_d3574c6614e149be926f27991dab75f1",
            "placeholder": "​",
            "style": "IPY_MODEL_9a0b48af08ee49c5933a0f79b0c82b97",
            "value": "100%"
          }
        },
        "d5d2b28b5b5f44d2b5138c730baf6233": {
          "model_module": "@jupyter-widgets/controls",
          "model_name": "FloatProgressModel",
          "model_module_version": "1.5.0",
          "state": {
            "_dom_classes": [],
            "_model_module": "@jupyter-widgets/controls",
            "_model_module_version": "1.5.0",
            "_model_name": "FloatProgressModel",
            "_view_count": null,
            "_view_module": "@jupyter-widgets/controls",
            "_view_module_version": "1.5.0",
            "_view_name": "ProgressView",
            "bar_style": "success",
            "description": "",
            "description_tooltip": null,
            "layout": "IPY_MODEL_60260b1f6bdc4a218e501af87617de31",
            "max": 924,
            "min": 0,
            "orientation": "horizontal",
            "style": "IPY_MODEL_173cea3dce184e828715bb5c3598cb85",
            "value": 924
          }
        },
        "5c8bb3907c2a4c4dab76ba5a6e7dfa6a": {
          "model_module": "@jupyter-widgets/controls",
          "model_name": "HTMLModel",
          "model_module_version": "1.5.0",
          "state": {
            "_dom_classes": [],
            "_model_module": "@jupyter-widgets/controls",
            "_model_module_version": "1.5.0",
            "_model_name": "HTMLModel",
            "_view_count": null,
            "_view_module": "@jupyter-widgets/controls",
            "_view_module_version": "1.5.0",
            "_view_name": "HTMLView",
            "description": "",
            "description_tooltip": null,
            "layout": "IPY_MODEL_640677cb1d86498ba87a56ca352d6091",
            "placeholder": "​",
            "style": "IPY_MODEL_23a91bb76e6a4704aad4c4f2a28a8491",
            "value": " 924/924 [07:19&lt;00:00,  2.35it/s, loss=3.88]"
          }
        },
        "aa173e09c9134ef5a11f547e36c339d7": {
          "model_module": "@jupyter-widgets/base",
          "model_name": "LayoutModel",
          "model_module_version": "1.2.0",
          "state": {
            "_model_module": "@jupyter-widgets/base",
            "_model_module_version": "1.2.0",
            "_model_name": "LayoutModel",
            "_view_count": null,
            "_view_module": "@jupyter-widgets/base",
            "_view_module_version": "1.2.0",
            "_view_name": "LayoutView",
            "align_content": null,
            "align_items": null,
            "align_self": null,
            "border": null,
            "bottom": null,
            "display": null,
            "flex": null,
            "flex_flow": null,
            "grid_area": null,
            "grid_auto_columns": null,
            "grid_auto_flow": null,
            "grid_auto_rows": null,
            "grid_column": null,
            "grid_gap": null,
            "grid_row": null,
            "grid_template_areas": null,
            "grid_template_columns": null,
            "grid_template_rows": null,
            "height": null,
            "justify_content": null,
            "justify_items": null,
            "left": null,
            "margin": null,
            "max_height": null,
            "max_width": null,
            "min_height": null,
            "min_width": null,
            "object_fit": null,
            "object_position": null,
            "order": null,
            "overflow": null,
            "overflow_x": null,
            "overflow_y": null,
            "padding": null,
            "right": null,
            "top": null,
            "visibility": null,
            "width": null
          }
        },
        "d3574c6614e149be926f27991dab75f1": {
          "model_module": "@jupyter-widgets/base",
          "model_name": "LayoutModel",
          "model_module_version": "1.2.0",
          "state": {
            "_model_module": "@jupyter-widgets/base",
            "_model_module_version": "1.2.0",
            "_model_name": "LayoutModel",
            "_view_count": null,
            "_view_module": "@jupyter-widgets/base",
            "_view_module_version": "1.2.0",
            "_view_name": "LayoutView",
            "align_content": null,
            "align_items": null,
            "align_self": null,
            "border": null,
            "bottom": null,
            "display": null,
            "flex": null,
            "flex_flow": null,
            "grid_area": null,
            "grid_auto_columns": null,
            "grid_auto_flow": null,
            "grid_auto_rows": null,
            "grid_column": null,
            "grid_gap": null,
            "grid_row": null,
            "grid_template_areas": null,
            "grid_template_columns": null,
            "grid_template_rows": null,
            "height": null,
            "justify_content": null,
            "justify_items": null,
            "left": null,
            "margin": null,
            "max_height": null,
            "max_width": null,
            "min_height": null,
            "min_width": null,
            "object_fit": null,
            "object_position": null,
            "order": null,
            "overflow": null,
            "overflow_x": null,
            "overflow_y": null,
            "padding": null,
            "right": null,
            "top": null,
            "visibility": null,
            "width": null
          }
        },
        "9a0b48af08ee49c5933a0f79b0c82b97": {
          "model_module": "@jupyter-widgets/controls",
          "model_name": "DescriptionStyleModel",
          "model_module_version": "1.5.0",
          "state": {
            "_model_module": "@jupyter-widgets/controls",
            "_model_module_version": "1.5.0",
            "_model_name": "DescriptionStyleModel",
            "_view_count": null,
            "_view_module": "@jupyter-widgets/base",
            "_view_module_version": "1.2.0",
            "_view_name": "StyleView",
            "description_width": ""
          }
        },
        "60260b1f6bdc4a218e501af87617de31": {
          "model_module": "@jupyter-widgets/base",
          "model_name": "LayoutModel",
          "model_module_version": "1.2.0",
          "state": {
            "_model_module": "@jupyter-widgets/base",
            "_model_module_version": "1.2.0",
            "_model_name": "LayoutModel",
            "_view_count": null,
            "_view_module": "@jupyter-widgets/base",
            "_view_module_version": "1.2.0",
            "_view_name": "LayoutView",
            "align_content": null,
            "align_items": null,
            "align_self": null,
            "border": null,
            "bottom": null,
            "display": null,
            "flex": null,
            "flex_flow": null,
            "grid_area": null,
            "grid_auto_columns": null,
            "grid_auto_flow": null,
            "grid_auto_rows": null,
            "grid_column": null,
            "grid_gap": null,
            "grid_row": null,
            "grid_template_areas": null,
            "grid_template_columns": null,
            "grid_template_rows": null,
            "height": null,
            "justify_content": null,
            "justify_items": null,
            "left": null,
            "margin": null,
            "max_height": null,
            "max_width": null,
            "min_height": null,
            "min_width": null,
            "object_fit": null,
            "object_position": null,
            "order": null,
            "overflow": null,
            "overflow_x": null,
            "overflow_y": null,
            "padding": null,
            "right": null,
            "top": null,
            "visibility": null,
            "width": null
          }
        },
        "173cea3dce184e828715bb5c3598cb85": {
          "model_module": "@jupyter-widgets/controls",
          "model_name": "ProgressStyleModel",
          "model_module_version": "1.5.0",
          "state": {
            "_model_module": "@jupyter-widgets/controls",
            "_model_module_version": "1.5.0",
            "_model_name": "ProgressStyleModel",
            "_view_count": null,
            "_view_module": "@jupyter-widgets/base",
            "_view_module_version": "1.2.0",
            "_view_name": "StyleView",
            "bar_color": null,
            "description_width": ""
          }
        },
        "640677cb1d86498ba87a56ca352d6091": {
          "model_module": "@jupyter-widgets/base",
          "model_name": "LayoutModel",
          "model_module_version": "1.2.0",
          "state": {
            "_model_module": "@jupyter-widgets/base",
            "_model_module_version": "1.2.0",
            "_model_name": "LayoutModel",
            "_view_count": null,
            "_view_module": "@jupyter-widgets/base",
            "_view_module_version": "1.2.0",
            "_view_name": "LayoutView",
            "align_content": null,
            "align_items": null,
            "align_self": null,
            "border": null,
            "bottom": null,
            "display": null,
            "flex": null,
            "flex_flow": null,
            "grid_area": null,
            "grid_auto_columns": null,
            "grid_auto_flow": null,
            "grid_auto_rows": null,
            "grid_column": null,
            "grid_gap": null,
            "grid_row": null,
            "grid_template_areas": null,
            "grid_template_columns": null,
            "grid_template_rows": null,
            "height": null,
            "justify_content": null,
            "justify_items": null,
            "left": null,
            "margin": null,
            "max_height": null,
            "max_width": null,
            "min_height": null,
            "min_width": null,
            "object_fit": null,
            "object_position": null,
            "order": null,
            "overflow": null,
            "overflow_x": null,
            "overflow_y": null,
            "padding": null,
            "right": null,
            "top": null,
            "visibility": null,
            "width": null
          }
        },
        "23a91bb76e6a4704aad4c4f2a28a8491": {
          "model_module": "@jupyter-widgets/controls",
          "model_name": "DescriptionStyleModel",
          "model_module_version": "1.5.0",
          "state": {
            "_model_module": "@jupyter-widgets/controls",
            "_model_module_version": "1.5.0",
            "_model_name": "DescriptionStyleModel",
            "_view_count": null,
            "_view_module": "@jupyter-widgets/base",
            "_view_module_version": "1.2.0",
            "_view_name": "StyleView",
            "description_width": ""
          }
        },
        "8cf3ac70c9704b50b8c80a5d7e1dc7ab": {
          "model_module": "@jupyter-widgets/controls",
          "model_name": "HBoxModel",
          "model_module_version": "1.5.0",
          "state": {
            "_dom_classes": [],
            "_model_module": "@jupyter-widgets/controls",
            "_model_module_version": "1.5.0",
            "_model_name": "HBoxModel",
            "_view_count": null,
            "_view_module": "@jupyter-widgets/controls",
            "_view_module_version": "1.5.0",
            "_view_name": "HBoxView",
            "box_style": "",
            "children": [
              "IPY_MODEL_0ca39cc982a5462ea590f0db43ddb823",
              "IPY_MODEL_9cbda1bf6f1c487ebd1d84122d34e6b6",
              "IPY_MODEL_728e79d883144cc48e04d05151a2ca89"
            ],
            "layout": "IPY_MODEL_63fadedd74fa4c7db64096e1c6c26836"
          }
        },
        "0ca39cc982a5462ea590f0db43ddb823": {
          "model_module": "@jupyter-widgets/controls",
          "model_name": "HTMLModel",
          "model_module_version": "1.5.0",
          "state": {
            "_dom_classes": [],
            "_model_module": "@jupyter-widgets/controls",
            "_model_module_version": "1.5.0",
            "_model_name": "HTMLModel",
            "_view_count": null,
            "_view_module": "@jupyter-widgets/controls",
            "_view_module_version": "1.5.0",
            "_view_name": "HTMLView",
            "description": "",
            "description_tooltip": null,
            "layout": "IPY_MODEL_39b52d66837348ae9f2d864258dbb98b",
            "placeholder": "​",
            "style": "IPY_MODEL_179bb90fd1444146bf20f013a07eba9b",
            "value": "100%"
          }
        },
        "9cbda1bf6f1c487ebd1d84122d34e6b6": {
          "model_module": "@jupyter-widgets/controls",
          "model_name": "FloatProgressModel",
          "model_module_version": "1.5.0",
          "state": {
            "_dom_classes": [],
            "_model_module": "@jupyter-widgets/controls",
            "_model_module_version": "1.5.0",
            "_model_name": "FloatProgressModel",
            "_view_count": null,
            "_view_module": "@jupyter-widgets/controls",
            "_view_module_version": "1.5.0",
            "_view_name": "ProgressView",
            "bar_style": "success",
            "description": "",
            "description_tooltip": null,
            "layout": "IPY_MODEL_0351a04608b94a8fb4ebfd888742e2b0",
            "max": 309,
            "min": 0,
            "orientation": "horizontal",
            "style": "IPY_MODEL_15fa0ce466314a8f9808686de277882e",
            "value": 309
          }
        },
        "728e79d883144cc48e04d05151a2ca89": {
          "model_module": "@jupyter-widgets/controls",
          "model_name": "HTMLModel",
          "model_module_version": "1.5.0",
          "state": {
            "_dom_classes": [],
            "_model_module": "@jupyter-widgets/controls",
            "_model_module_version": "1.5.0",
            "_model_name": "HTMLModel",
            "_view_count": null,
            "_view_module": "@jupyter-widgets/controls",
            "_view_module_version": "1.5.0",
            "_view_name": "HTMLView",
            "description": "",
            "description_tooltip": null,
            "layout": "IPY_MODEL_c6d9f1a399eb4389884ec77a673bfbfd",
            "placeholder": "​",
            "style": "IPY_MODEL_dc6431b9219b4f7aabe554adadc0fd62",
            "value": " 309/309 [01:04&lt;00:00,  5.82it/s]"
          }
        },
        "63fadedd74fa4c7db64096e1c6c26836": {
          "model_module": "@jupyter-widgets/base",
          "model_name": "LayoutModel",
          "model_module_version": "1.2.0",
          "state": {
            "_model_module": "@jupyter-widgets/base",
            "_model_module_version": "1.2.0",
            "_model_name": "LayoutModel",
            "_view_count": null,
            "_view_module": "@jupyter-widgets/base",
            "_view_module_version": "1.2.0",
            "_view_name": "LayoutView",
            "align_content": null,
            "align_items": null,
            "align_self": null,
            "border": null,
            "bottom": null,
            "display": null,
            "flex": null,
            "flex_flow": null,
            "grid_area": null,
            "grid_auto_columns": null,
            "grid_auto_flow": null,
            "grid_auto_rows": null,
            "grid_column": null,
            "grid_gap": null,
            "grid_row": null,
            "grid_template_areas": null,
            "grid_template_columns": null,
            "grid_template_rows": null,
            "height": null,
            "justify_content": null,
            "justify_items": null,
            "left": null,
            "margin": null,
            "max_height": null,
            "max_width": null,
            "min_height": null,
            "min_width": null,
            "object_fit": null,
            "object_position": null,
            "order": null,
            "overflow": null,
            "overflow_x": null,
            "overflow_y": null,
            "padding": null,
            "right": null,
            "top": null,
            "visibility": null,
            "width": null
          }
        },
        "39b52d66837348ae9f2d864258dbb98b": {
          "model_module": "@jupyter-widgets/base",
          "model_name": "LayoutModel",
          "model_module_version": "1.2.0",
          "state": {
            "_model_module": "@jupyter-widgets/base",
            "_model_module_version": "1.2.0",
            "_model_name": "LayoutModel",
            "_view_count": null,
            "_view_module": "@jupyter-widgets/base",
            "_view_module_version": "1.2.0",
            "_view_name": "LayoutView",
            "align_content": null,
            "align_items": null,
            "align_self": null,
            "border": null,
            "bottom": null,
            "display": null,
            "flex": null,
            "flex_flow": null,
            "grid_area": null,
            "grid_auto_columns": null,
            "grid_auto_flow": null,
            "grid_auto_rows": null,
            "grid_column": null,
            "grid_gap": null,
            "grid_row": null,
            "grid_template_areas": null,
            "grid_template_columns": null,
            "grid_template_rows": null,
            "height": null,
            "justify_content": null,
            "justify_items": null,
            "left": null,
            "margin": null,
            "max_height": null,
            "max_width": null,
            "min_height": null,
            "min_width": null,
            "object_fit": null,
            "object_position": null,
            "order": null,
            "overflow": null,
            "overflow_x": null,
            "overflow_y": null,
            "padding": null,
            "right": null,
            "top": null,
            "visibility": null,
            "width": null
          }
        },
        "179bb90fd1444146bf20f013a07eba9b": {
          "model_module": "@jupyter-widgets/controls",
          "model_name": "DescriptionStyleModel",
          "model_module_version": "1.5.0",
          "state": {
            "_model_module": "@jupyter-widgets/controls",
            "_model_module_version": "1.5.0",
            "_model_name": "DescriptionStyleModel",
            "_view_count": null,
            "_view_module": "@jupyter-widgets/base",
            "_view_module_version": "1.2.0",
            "_view_name": "StyleView",
            "description_width": ""
          }
        },
        "0351a04608b94a8fb4ebfd888742e2b0": {
          "model_module": "@jupyter-widgets/base",
          "model_name": "LayoutModel",
          "model_module_version": "1.2.0",
          "state": {
            "_model_module": "@jupyter-widgets/base",
            "_model_module_version": "1.2.0",
            "_model_name": "LayoutModel",
            "_view_count": null,
            "_view_module": "@jupyter-widgets/base",
            "_view_module_version": "1.2.0",
            "_view_name": "LayoutView",
            "align_content": null,
            "align_items": null,
            "align_self": null,
            "border": null,
            "bottom": null,
            "display": null,
            "flex": null,
            "flex_flow": null,
            "grid_area": null,
            "grid_auto_columns": null,
            "grid_auto_flow": null,
            "grid_auto_rows": null,
            "grid_column": null,
            "grid_gap": null,
            "grid_row": null,
            "grid_template_areas": null,
            "grid_template_columns": null,
            "grid_template_rows": null,
            "height": null,
            "justify_content": null,
            "justify_items": null,
            "left": null,
            "margin": null,
            "max_height": null,
            "max_width": null,
            "min_height": null,
            "min_width": null,
            "object_fit": null,
            "object_position": null,
            "order": null,
            "overflow": null,
            "overflow_x": null,
            "overflow_y": null,
            "padding": null,
            "right": null,
            "top": null,
            "visibility": null,
            "width": null
          }
        },
        "15fa0ce466314a8f9808686de277882e": {
          "model_module": "@jupyter-widgets/controls",
          "model_name": "ProgressStyleModel",
          "model_module_version": "1.5.0",
          "state": {
            "_model_module": "@jupyter-widgets/controls",
            "_model_module_version": "1.5.0",
            "_model_name": "ProgressStyleModel",
            "_view_count": null,
            "_view_module": "@jupyter-widgets/base",
            "_view_module_version": "1.2.0",
            "_view_name": "StyleView",
            "bar_color": null,
            "description_width": ""
          }
        },
        "c6d9f1a399eb4389884ec77a673bfbfd": {
          "model_module": "@jupyter-widgets/base",
          "model_name": "LayoutModel",
          "model_module_version": "1.2.0",
          "state": {
            "_model_module": "@jupyter-widgets/base",
            "_model_module_version": "1.2.0",
            "_model_name": "LayoutModel",
            "_view_count": null,
            "_view_module": "@jupyter-widgets/base",
            "_view_module_version": "1.2.0",
            "_view_name": "LayoutView",
            "align_content": null,
            "align_items": null,
            "align_self": null,
            "border": null,
            "bottom": null,
            "display": null,
            "flex": null,
            "flex_flow": null,
            "grid_area": null,
            "grid_auto_columns": null,
            "grid_auto_flow": null,
            "grid_auto_rows": null,
            "grid_column": null,
            "grid_gap": null,
            "grid_row": null,
            "grid_template_areas": null,
            "grid_template_columns": null,
            "grid_template_rows": null,
            "height": null,
            "justify_content": null,
            "justify_items": null,
            "left": null,
            "margin": null,
            "max_height": null,
            "max_width": null,
            "min_height": null,
            "min_width": null,
            "object_fit": null,
            "object_position": null,
            "order": null,
            "overflow": null,
            "overflow_x": null,
            "overflow_y": null,
            "padding": null,
            "right": null,
            "top": null,
            "visibility": null,
            "width": null
          }
        },
        "dc6431b9219b4f7aabe554adadc0fd62": {
          "model_module": "@jupyter-widgets/controls",
          "model_name": "DescriptionStyleModel",
          "model_module_version": "1.5.0",
          "state": {
            "_model_module": "@jupyter-widgets/controls",
            "_model_module_version": "1.5.0",
            "_model_name": "DescriptionStyleModel",
            "_view_count": null,
            "_view_module": "@jupyter-widgets/base",
            "_view_module_version": "1.2.0",
            "_view_name": "StyleView",
            "description_width": ""
          }
        },
        "bf3dc7a059264910a4650a24a6e69c44": {
          "model_module": "@jupyter-widgets/controls",
          "model_name": "HBoxModel",
          "model_module_version": "1.5.0",
          "state": {
            "_dom_classes": [],
            "_model_module": "@jupyter-widgets/controls",
            "_model_module_version": "1.5.0",
            "_model_name": "HBoxModel",
            "_view_count": null,
            "_view_module": "@jupyter-widgets/controls",
            "_view_module_version": "1.5.0",
            "_view_name": "HBoxView",
            "box_style": "",
            "children": [
              "IPY_MODEL_92bae3cf63f74ab39d70a207124b1566",
              "IPY_MODEL_7e456dbd830c4172ac9e09d4dc74a039",
              "IPY_MODEL_f5750f9a58644048a0860ad003c60db9"
            ],
            "layout": "IPY_MODEL_5e45757b5c044c17ab0ff0897c7d9b7f"
          }
        },
        "92bae3cf63f74ab39d70a207124b1566": {
          "model_module": "@jupyter-widgets/controls",
          "model_name": "HTMLModel",
          "model_module_version": "1.5.0",
          "state": {
            "_dom_classes": [],
            "_model_module": "@jupyter-widgets/controls",
            "_model_module_version": "1.5.0",
            "_model_name": "HTMLModel",
            "_view_count": null,
            "_view_module": "@jupyter-widgets/controls",
            "_view_module_version": "1.5.0",
            "_view_name": "HTMLView",
            "description": "",
            "description_tooltip": null,
            "layout": "IPY_MODEL_467f80ba9d1747fe8b04c40f4946299c",
            "placeholder": "​",
            "style": "IPY_MODEL_d117866be78d4f4bbdc33ae197a5e390",
            "value": "100%"
          }
        },
        "7e456dbd830c4172ac9e09d4dc74a039": {
          "model_module": "@jupyter-widgets/controls",
          "model_name": "FloatProgressModel",
          "model_module_version": "1.5.0",
          "state": {
            "_dom_classes": [],
            "_model_module": "@jupyter-widgets/controls",
            "_model_module_version": "1.5.0",
            "_model_name": "FloatProgressModel",
            "_view_count": null,
            "_view_module": "@jupyter-widgets/controls",
            "_view_module_version": "1.5.0",
            "_view_name": "ProgressView",
            "bar_style": "success",
            "description": "",
            "description_tooltip": null,
            "layout": "IPY_MODEL_e0284c850c744ab18587ca87cb2239df",
            "max": 41,
            "min": 0,
            "orientation": "horizontal",
            "style": "IPY_MODEL_e7e0742d2aae42519d7b34ef9406cd0e",
            "value": 41
          }
        },
        "f5750f9a58644048a0860ad003c60db9": {
          "model_module": "@jupyter-widgets/controls",
          "model_name": "HTMLModel",
          "model_module_version": "1.5.0",
          "state": {
            "_dom_classes": [],
            "_model_module": "@jupyter-widgets/controls",
            "_model_module_version": "1.5.0",
            "_model_name": "HTMLModel",
            "_view_count": null,
            "_view_module": "@jupyter-widgets/controls",
            "_view_module_version": "1.5.0",
            "_view_name": "HTMLView",
            "description": "",
            "description_tooltip": null,
            "layout": "IPY_MODEL_524252132bfe49698ab9df7f7dd9750a",
            "placeholder": "​",
            "style": "IPY_MODEL_0bf91b553c4a415abf5636cf5607ceb2",
            "value": " 41/41 [00:08&lt;00:00,  5.51it/s]"
          }
        },
        "5e45757b5c044c17ab0ff0897c7d9b7f": {
          "model_module": "@jupyter-widgets/base",
          "model_name": "LayoutModel",
          "model_module_version": "1.2.0",
          "state": {
            "_model_module": "@jupyter-widgets/base",
            "_model_module_version": "1.2.0",
            "_model_name": "LayoutModel",
            "_view_count": null,
            "_view_module": "@jupyter-widgets/base",
            "_view_module_version": "1.2.0",
            "_view_name": "LayoutView",
            "align_content": null,
            "align_items": null,
            "align_self": null,
            "border": null,
            "bottom": null,
            "display": null,
            "flex": null,
            "flex_flow": null,
            "grid_area": null,
            "grid_auto_columns": null,
            "grid_auto_flow": null,
            "grid_auto_rows": null,
            "grid_column": null,
            "grid_gap": null,
            "grid_row": null,
            "grid_template_areas": null,
            "grid_template_columns": null,
            "grid_template_rows": null,
            "height": null,
            "justify_content": null,
            "justify_items": null,
            "left": null,
            "margin": null,
            "max_height": null,
            "max_width": null,
            "min_height": null,
            "min_width": null,
            "object_fit": null,
            "object_position": null,
            "order": null,
            "overflow": null,
            "overflow_x": null,
            "overflow_y": null,
            "padding": null,
            "right": null,
            "top": null,
            "visibility": null,
            "width": null
          }
        },
        "467f80ba9d1747fe8b04c40f4946299c": {
          "model_module": "@jupyter-widgets/base",
          "model_name": "LayoutModel",
          "model_module_version": "1.2.0",
          "state": {
            "_model_module": "@jupyter-widgets/base",
            "_model_module_version": "1.2.0",
            "_model_name": "LayoutModel",
            "_view_count": null,
            "_view_module": "@jupyter-widgets/base",
            "_view_module_version": "1.2.0",
            "_view_name": "LayoutView",
            "align_content": null,
            "align_items": null,
            "align_self": null,
            "border": null,
            "bottom": null,
            "display": null,
            "flex": null,
            "flex_flow": null,
            "grid_area": null,
            "grid_auto_columns": null,
            "grid_auto_flow": null,
            "grid_auto_rows": null,
            "grid_column": null,
            "grid_gap": null,
            "grid_row": null,
            "grid_template_areas": null,
            "grid_template_columns": null,
            "grid_template_rows": null,
            "height": null,
            "justify_content": null,
            "justify_items": null,
            "left": null,
            "margin": null,
            "max_height": null,
            "max_width": null,
            "min_height": null,
            "min_width": null,
            "object_fit": null,
            "object_position": null,
            "order": null,
            "overflow": null,
            "overflow_x": null,
            "overflow_y": null,
            "padding": null,
            "right": null,
            "top": null,
            "visibility": null,
            "width": null
          }
        },
        "d117866be78d4f4bbdc33ae197a5e390": {
          "model_module": "@jupyter-widgets/controls",
          "model_name": "DescriptionStyleModel",
          "model_module_version": "1.5.0",
          "state": {
            "_model_module": "@jupyter-widgets/controls",
            "_model_module_version": "1.5.0",
            "_model_name": "DescriptionStyleModel",
            "_view_count": null,
            "_view_module": "@jupyter-widgets/base",
            "_view_module_version": "1.2.0",
            "_view_name": "StyleView",
            "description_width": ""
          }
        },
        "e0284c850c744ab18587ca87cb2239df": {
          "model_module": "@jupyter-widgets/base",
          "model_name": "LayoutModel",
          "model_module_version": "1.2.0",
          "state": {
            "_model_module": "@jupyter-widgets/base",
            "_model_module_version": "1.2.0",
            "_model_name": "LayoutModel",
            "_view_count": null,
            "_view_module": "@jupyter-widgets/base",
            "_view_module_version": "1.2.0",
            "_view_name": "LayoutView",
            "align_content": null,
            "align_items": null,
            "align_self": null,
            "border": null,
            "bottom": null,
            "display": null,
            "flex": null,
            "flex_flow": null,
            "grid_area": null,
            "grid_auto_columns": null,
            "grid_auto_flow": null,
            "grid_auto_rows": null,
            "grid_column": null,
            "grid_gap": null,
            "grid_row": null,
            "grid_template_areas": null,
            "grid_template_columns": null,
            "grid_template_rows": null,
            "height": null,
            "justify_content": null,
            "justify_items": null,
            "left": null,
            "margin": null,
            "max_height": null,
            "max_width": null,
            "min_height": null,
            "min_width": null,
            "object_fit": null,
            "object_position": null,
            "order": null,
            "overflow": null,
            "overflow_x": null,
            "overflow_y": null,
            "padding": null,
            "right": null,
            "top": null,
            "visibility": null,
            "width": null
          }
        },
        "e7e0742d2aae42519d7b34ef9406cd0e": {
          "model_module": "@jupyter-widgets/controls",
          "model_name": "ProgressStyleModel",
          "model_module_version": "1.5.0",
          "state": {
            "_model_module": "@jupyter-widgets/controls",
            "_model_module_version": "1.5.0",
            "_model_name": "ProgressStyleModel",
            "_view_count": null,
            "_view_module": "@jupyter-widgets/base",
            "_view_module_version": "1.2.0",
            "_view_name": "StyleView",
            "bar_color": null,
            "description_width": ""
          }
        },
        "524252132bfe49698ab9df7f7dd9750a": {
          "model_module": "@jupyter-widgets/base",
          "model_name": "LayoutModel",
          "model_module_version": "1.2.0",
          "state": {
            "_model_module": "@jupyter-widgets/base",
            "_model_module_version": "1.2.0",
            "_model_name": "LayoutModel",
            "_view_count": null,
            "_view_module": "@jupyter-widgets/base",
            "_view_module_version": "1.2.0",
            "_view_name": "LayoutView",
            "align_content": null,
            "align_items": null,
            "align_self": null,
            "border": null,
            "bottom": null,
            "display": null,
            "flex": null,
            "flex_flow": null,
            "grid_area": null,
            "grid_auto_columns": null,
            "grid_auto_flow": null,
            "grid_auto_rows": null,
            "grid_column": null,
            "grid_gap": null,
            "grid_row": null,
            "grid_template_areas": null,
            "grid_template_columns": null,
            "grid_template_rows": null,
            "height": null,
            "justify_content": null,
            "justify_items": null,
            "left": null,
            "margin": null,
            "max_height": null,
            "max_width": null,
            "min_height": null,
            "min_width": null,
            "object_fit": null,
            "object_position": null,
            "order": null,
            "overflow": null,
            "overflow_x": null,
            "overflow_y": null,
            "padding": null,
            "right": null,
            "top": null,
            "visibility": null,
            "width": null
          }
        },
        "0bf91b553c4a415abf5636cf5607ceb2": {
          "model_module": "@jupyter-widgets/controls",
          "model_name": "DescriptionStyleModel",
          "model_module_version": "1.5.0",
          "state": {
            "_model_module": "@jupyter-widgets/controls",
            "_model_module_version": "1.5.0",
            "_model_name": "DescriptionStyleModel",
            "_view_count": null,
            "_view_module": "@jupyter-widgets/base",
            "_view_module_version": "1.2.0",
            "_view_name": "StyleView",
            "description_width": ""
          }
        }
      }
    }
  },
  "nbformat": 4,
  "nbformat_minor": 0
}